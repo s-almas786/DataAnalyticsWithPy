{
 "cells": [
  {
   "cell_type": "markdown",
   "id": "02e4ff76-5a1c-4c7f-80f2-8fc2e0258a3b",
   "metadata": {},
   "source": [
    "### Stackoverflow Survey analysis using Numpy, Pandas and Matplotlib"
   ]
  },
  {
   "cell_type": "markdown",
   "id": "965e5768-a7cd-49ac-8f12-7c072d104b90",
   "metadata": {},
   "source": [
    " In this notebook I will analyse stackoverflow developer survey. You can find datasets here: https://insights.stackoverflow.com/survey"
   ]
  },
  {
   "cell_type": "code",
   "execution_count": 1,
   "id": "069cacd7-8671-4bb8-bca1-c96e2945bc24",
   "metadata": {},
   "outputs": [],
   "source": [
    "import numpy as np\n",
    "import pandas as pd\n",
    "import matplotlib.pyplot as plt\n",
    "import seaborn as sns"
   ]
  },
  {
   "cell_type": "code",
   "execution_count": 2,
   "id": "6cb47a8c-8009-4717-8c8b-23008817cce7",
   "metadata": {},
   "outputs": [],
   "source": [
    "plt.rcParams['font.size'] = '14'"
   ]
  },
  {
   "cell_type": "code",
   "execution_count": 3,
   "id": "3bd0eb12-01b0-464b-8860-30bd392ca71f",
   "metadata": {},
   "outputs": [],
   "source": [
    "df = pd.read_csv('survey_results_public.csv')\n",
    "df1 = pd.read_csv('survey_results_schema.csv', index_col='Column').QuestionText"
   ]
  },
  {
   "cell_type": "code",
   "execution_count": 4,
   "id": "ad853628-5103-42dc-b159-75509fd37811",
   "metadata": {},
   "outputs": [
    {
     "data": {
      "text/html": [
       "<div>\n",
       "<style scoped>\n",
       "    .dataframe tbody tr th:only-of-type {\n",
       "        vertical-align: middle;\n",
       "    }\n",
       "\n",
       "    .dataframe tbody tr th {\n",
       "        vertical-align: top;\n",
       "    }\n",
       "\n",
       "    .dataframe thead th {\n",
       "        text-align: right;\n",
       "    }\n",
       "</style>\n",
       "<table border=\"1\" class=\"dataframe\">\n",
       "  <thead>\n",
       "    <tr style=\"text-align: right;\">\n",
       "      <th></th>\n",
       "      <th>Respondent</th>\n",
       "      <th>MainBranch</th>\n",
       "      <th>Hobbyist</th>\n",
       "      <th>Age</th>\n",
       "      <th>Age1stCode</th>\n",
       "      <th>CompFreq</th>\n",
       "      <th>CompTotal</th>\n",
       "      <th>ConvertedComp</th>\n",
       "      <th>Country</th>\n",
       "      <th>CurrencyDesc</th>\n",
       "      <th>...</th>\n",
       "      <th>SurveyEase</th>\n",
       "      <th>SurveyLength</th>\n",
       "      <th>Trans</th>\n",
       "      <th>UndergradMajor</th>\n",
       "      <th>WebframeDesireNextYear</th>\n",
       "      <th>WebframeWorkedWith</th>\n",
       "      <th>WelcomeChange</th>\n",
       "      <th>WorkWeekHrs</th>\n",
       "      <th>YearsCode</th>\n",
       "      <th>YearsCodePro</th>\n",
       "    </tr>\n",
       "  </thead>\n",
       "  <tbody>\n",
       "    <tr>\n",
       "      <th>0</th>\n",
       "      <td>1</td>\n",
       "      <td>I am a developer by profession</td>\n",
       "      <td>Yes</td>\n",
       "      <td>NaN</td>\n",
       "      <td>13</td>\n",
       "      <td>Monthly</td>\n",
       "      <td>NaN</td>\n",
       "      <td>NaN</td>\n",
       "      <td>Germany</td>\n",
       "      <td>European Euro</td>\n",
       "      <td>...</td>\n",
       "      <td>Neither easy nor difficult</td>\n",
       "      <td>Appropriate in length</td>\n",
       "      <td>No</td>\n",
       "      <td>Computer science, computer engineering, or sof...</td>\n",
       "      <td>ASP.NET Core</td>\n",
       "      <td>ASP.NET;ASP.NET Core</td>\n",
       "      <td>Just as welcome now as I felt last year</td>\n",
       "      <td>50.0</td>\n",
       "      <td>36</td>\n",
       "      <td>27</td>\n",
       "    </tr>\n",
       "    <tr>\n",
       "      <th>1</th>\n",
       "      <td>2</td>\n",
       "      <td>I am a developer by profession</td>\n",
       "      <td>No</td>\n",
       "      <td>NaN</td>\n",
       "      <td>19</td>\n",
       "      <td>NaN</td>\n",
       "      <td>NaN</td>\n",
       "      <td>NaN</td>\n",
       "      <td>United Kingdom</td>\n",
       "      <td>Pound sterling</td>\n",
       "      <td>...</td>\n",
       "      <td>NaN</td>\n",
       "      <td>NaN</td>\n",
       "      <td>NaN</td>\n",
       "      <td>Computer science, computer engineering, or sof...</td>\n",
       "      <td>NaN</td>\n",
       "      <td>NaN</td>\n",
       "      <td>Somewhat more welcome now than last year</td>\n",
       "      <td>NaN</td>\n",
       "      <td>7</td>\n",
       "      <td>4</td>\n",
       "    </tr>\n",
       "    <tr>\n",
       "      <th>2</th>\n",
       "      <td>3</td>\n",
       "      <td>I code primarily as a hobby</td>\n",
       "      <td>Yes</td>\n",
       "      <td>NaN</td>\n",
       "      <td>15</td>\n",
       "      <td>NaN</td>\n",
       "      <td>NaN</td>\n",
       "      <td>NaN</td>\n",
       "      <td>Russian Federation</td>\n",
       "      <td>NaN</td>\n",
       "      <td>...</td>\n",
       "      <td>Neither easy nor difficult</td>\n",
       "      <td>Appropriate in length</td>\n",
       "      <td>NaN</td>\n",
       "      <td>NaN</td>\n",
       "      <td>NaN</td>\n",
       "      <td>NaN</td>\n",
       "      <td>Somewhat more welcome now than last year</td>\n",
       "      <td>NaN</td>\n",
       "      <td>4</td>\n",
       "      <td>NaN</td>\n",
       "    </tr>\n",
       "    <tr>\n",
       "      <th>3</th>\n",
       "      <td>4</td>\n",
       "      <td>I am a developer by profession</td>\n",
       "      <td>Yes</td>\n",
       "      <td>25.0</td>\n",
       "      <td>18</td>\n",
       "      <td>NaN</td>\n",
       "      <td>NaN</td>\n",
       "      <td>NaN</td>\n",
       "      <td>Albania</td>\n",
       "      <td>Albanian lek</td>\n",
       "      <td>...</td>\n",
       "      <td>NaN</td>\n",
       "      <td>NaN</td>\n",
       "      <td>No</td>\n",
       "      <td>Computer science, computer engineering, or sof...</td>\n",
       "      <td>NaN</td>\n",
       "      <td>NaN</td>\n",
       "      <td>Somewhat less welcome now than last year</td>\n",
       "      <td>40.0</td>\n",
       "      <td>7</td>\n",
       "      <td>4</td>\n",
       "    </tr>\n",
       "    <tr>\n",
       "      <th>4</th>\n",
       "      <td>5</td>\n",
       "      <td>I used to be a developer by profession, but no...</td>\n",
       "      <td>Yes</td>\n",
       "      <td>31.0</td>\n",
       "      <td>16</td>\n",
       "      <td>NaN</td>\n",
       "      <td>NaN</td>\n",
       "      <td>NaN</td>\n",
       "      <td>United States</td>\n",
       "      <td>NaN</td>\n",
       "      <td>...</td>\n",
       "      <td>Easy</td>\n",
       "      <td>Too short</td>\n",
       "      <td>No</td>\n",
       "      <td>Computer science, computer engineering, or sof...</td>\n",
       "      <td>Django;Ruby on Rails</td>\n",
       "      <td>Ruby on Rails</td>\n",
       "      <td>Just as welcome now as I felt last year</td>\n",
       "      <td>NaN</td>\n",
       "      <td>15</td>\n",
       "      <td>8</td>\n",
       "    </tr>\n",
       "  </tbody>\n",
       "</table>\n",
       "<p>5 rows × 61 columns</p>\n",
       "</div>"
      ],
      "text/plain": [
       "   Respondent                                         MainBranch Hobbyist  \\\n",
       "0           1                     I am a developer by profession      Yes   \n",
       "1           2                     I am a developer by profession       No   \n",
       "2           3                        I code primarily as a hobby      Yes   \n",
       "3           4                     I am a developer by profession      Yes   \n",
       "4           5  I used to be a developer by profession, but no...      Yes   \n",
       "\n",
       "    Age Age1stCode CompFreq  CompTotal  ConvertedComp             Country  \\\n",
       "0   NaN         13  Monthly        NaN            NaN             Germany   \n",
       "1   NaN         19      NaN        NaN            NaN      United Kingdom   \n",
       "2   NaN         15      NaN        NaN            NaN  Russian Federation   \n",
       "3  25.0         18      NaN        NaN            NaN             Albania   \n",
       "4  31.0         16      NaN        NaN            NaN       United States   \n",
       "\n",
       "     CurrencyDesc  ...                  SurveyEase           SurveyLength  \\\n",
       "0   European Euro  ...  Neither easy nor difficult  Appropriate in length   \n",
       "1  Pound sterling  ...                         NaN                    NaN   \n",
       "2             NaN  ...  Neither easy nor difficult  Appropriate in length   \n",
       "3    Albanian lek  ...                         NaN                    NaN   \n",
       "4             NaN  ...                        Easy              Too short   \n",
       "\n",
       "  Trans                                     UndergradMajor  \\\n",
       "0    No  Computer science, computer engineering, or sof...   \n",
       "1   NaN  Computer science, computer engineering, or sof...   \n",
       "2   NaN                                                NaN   \n",
       "3    No  Computer science, computer engineering, or sof...   \n",
       "4    No  Computer science, computer engineering, or sof...   \n",
       "\n",
       "  WebframeDesireNextYear    WebframeWorkedWith  \\\n",
       "0           ASP.NET Core  ASP.NET;ASP.NET Core   \n",
       "1                    NaN                   NaN   \n",
       "2                    NaN                   NaN   \n",
       "3                    NaN                   NaN   \n",
       "4   Django;Ruby on Rails         Ruby on Rails   \n",
       "\n",
       "                              WelcomeChange WorkWeekHrs YearsCode YearsCodePro  \n",
       "0   Just as welcome now as I felt last year        50.0        36           27  \n",
       "1  Somewhat more welcome now than last year         NaN         7            4  \n",
       "2  Somewhat more welcome now than last year         NaN         4          NaN  \n",
       "3  Somewhat less welcome now than last year        40.0         7            4  \n",
       "4   Just as welcome now as I felt last year         NaN        15            8  \n",
       "\n",
       "[5 rows x 61 columns]"
      ]
     },
     "execution_count": 4,
     "metadata": {},
     "output_type": "execute_result"
    }
   ],
   "source": [
    "df.head()"
   ]
  },
  {
   "cell_type": "code",
   "execution_count": 5,
   "id": "27cf7f78-2481-4cc6-a176-a37041ddb0f6",
   "metadata": {},
   "outputs": [
    {
     "data": {
      "text/plain": [
       "Column\n",
       "Respondent    Randomized respondent ID number (not in order ...\n",
       "MainBranch    Which of the following options best describes ...\n",
       "Hobbyist                                Do you code as a hobby?\n",
       "Age           What is your age (in years)? If you prefer not...\n",
       "Age1stCode    At what age did you write your first line of c...\n",
       "Name: QuestionText, dtype: object"
      ]
     },
     "execution_count": 5,
     "metadata": {},
     "output_type": "execute_result"
    }
   ],
   "source": [
    "df1.head()"
   ]
  },
  {
   "cell_type": "code",
   "execution_count": 6,
   "id": "3b186255-2e81-435e-8807-b5a3e05412f2",
   "metadata": {},
   "outputs": [
    {
     "data": {
      "text/plain": [
       "Index(['Respondent', 'MainBranch', 'Hobbyist', 'Age', 'Age1stCode', 'CompFreq',\n",
       "       'CompTotal', 'ConvertedComp', 'Country', 'CurrencyDesc',\n",
       "       'CurrencySymbol', 'DatabaseDesireNextYear', 'DatabaseWorkedWith',\n",
       "       'DevType', 'EdLevel', 'Employment', 'Ethnicity', 'Gender', 'JobFactors',\n",
       "       'JobSat', 'JobSeek', 'LanguageDesireNextYear', 'LanguageWorkedWith',\n",
       "       'MiscTechDesireNextYear', 'MiscTechWorkedWith',\n",
       "       'NEWCollabToolsDesireNextYear', 'NEWCollabToolsWorkedWith', 'NEWDevOps',\n",
       "       'NEWDevOpsImpt', 'NEWEdImpt', 'NEWJobHunt', 'NEWJobHuntResearch',\n",
       "       'NEWLearn', 'NEWOffTopic', 'NEWOnboardGood', 'NEWOtherComms',\n",
       "       'NEWOvertime', 'NEWPurchaseResearch', 'NEWPurpleLink', 'NEWSOSites',\n",
       "       'NEWStuck', 'OpSys', 'OrgSize', 'PlatformDesireNextYear',\n",
       "       'PlatformWorkedWith', 'PurchaseWhat', 'Sexuality', 'SOAccount',\n",
       "       'SOComm', 'SOPartFreq', 'SOVisitFreq', 'SurveyEase', 'SurveyLength',\n",
       "       'Trans', 'UndergradMajor', 'WebframeDesireNextYear',\n",
       "       'WebframeWorkedWith', 'WelcomeChange', 'WorkWeekHrs', 'YearsCode',\n",
       "       'YearsCodePro'],\n",
       "      dtype='object')"
      ]
     },
     "execution_count": 6,
     "metadata": {},
     "output_type": "execute_result"
    }
   ],
   "source": [
    "df.columns"
   ]
  },
  {
   "cell_type": "code",
   "execution_count": 7,
   "id": "ce441670-98a3-4e4a-8690-808befbd9ef6",
   "metadata": {},
   "outputs": [
    {
     "data": {
      "text/plain": [
       "(64461, 61)"
      ]
     },
     "execution_count": 7,
     "metadata": {},
     "output_type": "execute_result"
    }
   ],
   "source": [
    "df.shape"
   ]
  },
  {
   "cell_type": "markdown",
   "id": "456c9730-878b-4997-8939-83cd339fea53",
   "metadata": {},
   "source": [
    " The data set contains 64461 rows and 61 columns meand 64461 persons take this survey and 61 quetions have been asked from each person"
   ]
  },
  {
   "cell_type": "code",
   "execution_count": 8,
   "id": "d6261d28-ee97-4b2b-8c4b-74c7f84b160f",
   "metadata": {},
   "outputs": [],
   "source": [
    "# df.info()"
   ]
  },
  {
   "cell_type": "markdown",
   "id": "d543de80-2c4f-4a00-8f2f-83a37e806716",
   "metadata": {},
   "source": [
    "### Data Preparation & Cleaning"
   ]
  },
  {
   "cell_type": "markdown",
   "id": "ee0c9acd-6304-48de-98c9-e5fa4fa92cfa",
   "metadata": {},
   "source": [
    "##### Survey contains a lot of information but we limit to analysis to\n",
    "* Demographics\n",
    "\n",
    "* Programing Languages\n",
    "\n",
    "* Employment information\n",
    "\n",
    "##### Now, I will select columns related to these topics"
   ]
  },
  {
   "cell_type": "code",
   "execution_count": 9,
   "id": "0db64853-1abf-4563-965b-80cec6c02a4a",
   "metadata": {},
   "outputs": [],
   "source": [
    "selected_columns = [\n",
    "    # Demographics\n",
    "    'Country',\n",
    "    'Age',\n",
    "    'Gender',\n",
    "    'EdLevel',\n",
    "    'UndergradMajor',\n",
    "    # Programming experience\n",
    "    'Hobbyist',\n",
    "    'Age1stCode',\n",
    "    'YearsCode',\n",
    "    'YearsCodePro',\n",
    "    'LanguageWorkedWith',\n",
    "    'LanguageDesireNextYear',\n",
    "    'NEWLearn',\n",
    "    'NEWStuck',\n",
    "    # Employment\n",
    "    'Employment',\n",
    "    'DevType',\n",
    "    'WorkWeekHrs',\n",
    "    'JobSat',\n",
    "    'JobFactors',\n",
    "    'NEWOvertime',\n",
    "    'NEWEdImpt'\n",
    "]"
   ]
  },
  {
   "cell_type": "code",
   "execution_count": 10,
   "id": "4ed82d2a-08b0-4257-8069-fb0bd0aa1e07",
   "metadata": {},
   "outputs": [
    {
     "data": {
      "text/plain": [
       "20"
      ]
     },
     "execution_count": 10,
     "metadata": {},
     "output_type": "execute_result"
    }
   ],
   "source": [
    "len(selected_columns)"
   ]
  },
  {
   "cell_type": "code",
   "execution_count": 11,
   "id": "3f6489a8-ee4a-4c80-8e7e-96127d420b0a",
   "metadata": {},
   "outputs": [],
   "source": [
    "survey_df = df[selected_columns].copy()"
   ]
  },
  {
   "cell_type": "code",
   "execution_count": 12,
   "id": "4b55cf58-0def-410d-8d7e-7a305de0a9fa",
   "metadata": {},
   "outputs": [],
   "source": [
    "schema_df = df1[selected_columns].copy()"
   ]
  },
  {
   "cell_type": "code",
   "execution_count": 13,
   "id": "12cc8108-6b66-4f3f-a2f3-57ada0bf230a",
   "metadata": {},
   "outputs": [
    {
     "data": {
      "text/plain": [
       "(64461, 20)"
      ]
     },
     "execution_count": 13,
     "metadata": {},
     "output_type": "execute_result"
    }
   ],
   "source": [
    "survey_df.shape"
   ]
  },
  {
   "cell_type": "code",
   "execution_count": 14,
   "id": "7d633284-5dd6-49de-948e-7d92d58cc581",
   "metadata": {},
   "outputs": [
    {
     "name": "stdout",
     "output_type": "stream",
     "text": [
      "<class 'pandas.core.frame.DataFrame'>\n",
      "RangeIndex: 64461 entries, 0 to 64460\n",
      "Data columns (total 20 columns):\n",
      " #   Column                  Non-Null Count  Dtype  \n",
      "---  ------                  --------------  -----  \n",
      " 0   Country                 64072 non-null  object \n",
      " 1   Age                     45446 non-null  float64\n",
      " 2   Gender                  50557 non-null  object \n",
      " 3   EdLevel                 57431 non-null  object \n",
      " 4   UndergradMajor          50995 non-null  object \n",
      " 5   Hobbyist                64416 non-null  object \n",
      " 6   Age1stCode              57900 non-null  object \n",
      " 7   YearsCode               57684 non-null  object \n",
      " 8   YearsCodePro            46349 non-null  object \n",
      " 9   LanguageWorkedWith      57378 non-null  object \n",
      " 10  LanguageDesireNextYear  54113 non-null  object \n",
      " 11  NEWLearn                56156 non-null  object \n",
      " 12  NEWStuck                54983 non-null  object \n",
      " 13  Employment              63854 non-null  object \n",
      " 14  DevType                 49370 non-null  object \n",
      " 15  WorkWeekHrs             41151 non-null  float64\n",
      " 16  JobSat                  45194 non-null  object \n",
      " 17  JobFactors              49349 non-null  object \n",
      " 18  NEWOvertime             43231 non-null  object \n",
      " 19  NEWEdImpt               48465 non-null  object \n",
      "dtypes: float64(2), object(18)\n",
      "memory usage: 9.8+ MB\n"
     ]
    }
   ],
   "source": [
    "survey_df.info()"
   ]
  },
  {
   "cell_type": "code",
   "execution_count": 15,
   "id": "fc1c80a4-bae1-4f0e-931e-c746555eeb24",
   "metadata": {},
   "outputs": [],
   "source": [
    "survey_df['Age1stCode'] = pd.to_numeric(survey_df.Age1stCode, errors='coerce')\n",
    "survey_df['YearsCode'] = pd.to_numeric(survey_df.YearsCode, errors='coerce')\n",
    "survey_df['YearsCodePro'] = pd.to_numeric(survey_df.YearsCodePro, errors='coerce')"
   ]
  },
  {
   "cell_type": "code",
   "execution_count": 16,
   "id": "64d1f3b1-ca9e-45c8-a2f7-dba5414ce0d6",
   "metadata": {},
   "outputs": [
    {
     "data": {
      "text/html": [
       "<div>\n",
       "<style scoped>\n",
       "    .dataframe tbody tr th:only-of-type {\n",
       "        vertical-align: middle;\n",
       "    }\n",
       "\n",
       "    .dataframe tbody tr th {\n",
       "        vertical-align: top;\n",
       "    }\n",
       "\n",
       "    .dataframe thead th {\n",
       "        text-align: right;\n",
       "    }\n",
       "</style>\n",
       "<table border=\"1\" class=\"dataframe\">\n",
       "  <thead>\n",
       "    <tr style=\"text-align: right;\">\n",
       "      <th></th>\n",
       "      <th>Age</th>\n",
       "      <th>Age1stCode</th>\n",
       "      <th>YearsCode</th>\n",
       "      <th>YearsCodePro</th>\n",
       "      <th>WorkWeekHrs</th>\n",
       "    </tr>\n",
       "  </thead>\n",
       "  <tbody>\n",
       "    <tr>\n",
       "      <th>count</th>\n",
       "      <td>45446.000000</td>\n",
       "      <td>57473.000000</td>\n",
       "      <td>56784.000000</td>\n",
       "      <td>44133.000000</td>\n",
       "      <td>41151.000000</td>\n",
       "    </tr>\n",
       "    <tr>\n",
       "      <th>mean</th>\n",
       "      <td>30.834111</td>\n",
       "      <td>15.476572</td>\n",
       "      <td>12.782051</td>\n",
       "      <td>8.869667</td>\n",
       "      <td>40.782174</td>\n",
       "    </tr>\n",
       "    <tr>\n",
       "      <th>std</th>\n",
       "      <td>9.585392</td>\n",
       "      <td>5.114081</td>\n",
       "      <td>9.490657</td>\n",
       "      <td>7.759961</td>\n",
       "      <td>17.816383</td>\n",
       "    </tr>\n",
       "    <tr>\n",
       "      <th>min</th>\n",
       "      <td>1.000000</td>\n",
       "      <td>5.000000</td>\n",
       "      <td>1.000000</td>\n",
       "      <td>1.000000</td>\n",
       "      <td>1.000000</td>\n",
       "    </tr>\n",
       "    <tr>\n",
       "      <th>25%</th>\n",
       "      <td>24.000000</td>\n",
       "      <td>12.000000</td>\n",
       "      <td>6.000000</td>\n",
       "      <td>3.000000</td>\n",
       "      <td>40.000000</td>\n",
       "    </tr>\n",
       "    <tr>\n",
       "      <th>50%</th>\n",
       "      <td>29.000000</td>\n",
       "      <td>15.000000</td>\n",
       "      <td>10.000000</td>\n",
       "      <td>6.000000</td>\n",
       "      <td>40.000000</td>\n",
       "    </tr>\n",
       "    <tr>\n",
       "      <th>75%</th>\n",
       "      <td>35.000000</td>\n",
       "      <td>18.000000</td>\n",
       "      <td>17.000000</td>\n",
       "      <td>12.000000</td>\n",
       "      <td>44.000000</td>\n",
       "    </tr>\n",
       "    <tr>\n",
       "      <th>max</th>\n",
       "      <td>279.000000</td>\n",
       "      <td>85.000000</td>\n",
       "      <td>50.000000</td>\n",
       "      <td>50.000000</td>\n",
       "      <td>475.000000</td>\n",
       "    </tr>\n",
       "  </tbody>\n",
       "</table>\n",
       "</div>"
      ],
      "text/plain": [
       "                Age    Age1stCode     YearsCode  YearsCodePro   WorkWeekHrs\n",
       "count  45446.000000  57473.000000  56784.000000  44133.000000  41151.000000\n",
       "mean      30.834111     15.476572     12.782051      8.869667     40.782174\n",
       "std        9.585392      5.114081      9.490657      7.759961     17.816383\n",
       "min        1.000000      5.000000      1.000000      1.000000      1.000000\n",
       "25%       24.000000     12.000000      6.000000      3.000000     40.000000\n",
       "50%       29.000000     15.000000     10.000000      6.000000     40.000000\n",
       "75%       35.000000     18.000000     17.000000     12.000000     44.000000\n",
       "max      279.000000     85.000000     50.000000     50.000000    475.000000"
      ]
     },
     "execution_count": 16,
     "metadata": {},
     "output_type": "execute_result"
    }
   ],
   "source": [
    "survey_df.describe()"
   ]
  },
  {
   "cell_type": "markdown",
   "id": "f75e2df7-9f96-4cd6-a7b1-5054a9c240c4",
   "metadata": {},
   "source": [
    " There seems to be a problem with the age column, as the minimum value is 1 and the maximum is 279. This is a common issue with surveys: responses may contain invalid values due to accidental or intentional errors while responding. Lets fix this"
   ]
  },
  {
   "cell_type": "code",
   "execution_count": 17,
   "id": "6a0d4e69-bfda-4e44-a630-5ecacb35f554",
   "metadata": {},
   "outputs": [],
   "source": [
    "survey_df.drop(survey_df[survey_df.Age < 10].index , inplace=True)"
   ]
  },
  {
   "cell_type": "code",
   "execution_count": 18,
   "id": "559a9293-31e0-4639-aff5-1a721980d44d",
   "metadata": {},
   "outputs": [],
   "source": [
    "survey_df.drop(survey_df[survey_df.Age > 100].index , inplace=True)"
   ]
  },
  {
   "cell_type": "code",
   "execution_count": 19,
   "id": "30838d21-5658-4303-a17f-d494e7fd540f",
   "metadata": {},
   "outputs": [
    {
     "data": {
      "text/html": [
       "<div>\n",
       "<style scoped>\n",
       "    .dataframe tbody tr th:only-of-type {\n",
       "        vertical-align: middle;\n",
       "    }\n",
       "\n",
       "    .dataframe tbody tr th {\n",
       "        vertical-align: top;\n",
       "    }\n",
       "\n",
       "    .dataframe thead th {\n",
       "        text-align: right;\n",
       "    }\n",
       "</style>\n",
       "<table border=\"1\" class=\"dataframe\">\n",
       "  <thead>\n",
       "    <tr style=\"text-align: right;\">\n",
       "      <th></th>\n",
       "      <th>Age</th>\n",
       "      <th>Age1stCode</th>\n",
       "      <th>YearsCode</th>\n",
       "      <th>YearsCodePro</th>\n",
       "      <th>WorkWeekHrs</th>\n",
       "    </tr>\n",
       "  </thead>\n",
       "  <tbody>\n",
       "    <tr>\n",
       "      <th>count</th>\n",
       "      <td>45436.000000</td>\n",
       "      <td>57467.000000</td>\n",
       "      <td>56776.000000</td>\n",
       "      <td>44128.000000</td>\n",
       "      <td>41147.000000</td>\n",
       "    </tr>\n",
       "    <tr>\n",
       "      <th>mean</th>\n",
       "      <td>30.834294</td>\n",
       "      <td>15.476273</td>\n",
       "      <td>12.783130</td>\n",
       "      <td>8.870354</td>\n",
       "      <td>40.782153</td>\n",
       "    </tr>\n",
       "    <tr>\n",
       "      <th>std</th>\n",
       "      <td>9.506982</td>\n",
       "      <td>5.113997</td>\n",
       "      <td>9.490771</td>\n",
       "      <td>7.760095</td>\n",
       "      <td>17.816102</td>\n",
       "    </tr>\n",
       "    <tr>\n",
       "      <th>min</th>\n",
       "      <td>10.000000</td>\n",
       "      <td>5.000000</td>\n",
       "      <td>1.000000</td>\n",
       "      <td>1.000000</td>\n",
       "      <td>1.000000</td>\n",
       "    </tr>\n",
       "    <tr>\n",
       "      <th>25%</th>\n",
       "      <td>24.000000</td>\n",
       "      <td>12.000000</td>\n",
       "      <td>6.000000</td>\n",
       "      <td>3.000000</td>\n",
       "      <td>40.000000</td>\n",
       "    </tr>\n",
       "    <tr>\n",
       "      <th>50%</th>\n",
       "      <td>29.000000</td>\n",
       "      <td>15.000000</td>\n",
       "      <td>10.000000</td>\n",
       "      <td>6.000000</td>\n",
       "      <td>40.000000</td>\n",
       "    </tr>\n",
       "    <tr>\n",
       "      <th>75%</th>\n",
       "      <td>35.000000</td>\n",
       "      <td>18.000000</td>\n",
       "      <td>17.000000</td>\n",
       "      <td>12.000000</td>\n",
       "      <td>44.000000</td>\n",
       "    </tr>\n",
       "    <tr>\n",
       "      <th>max</th>\n",
       "      <td>99.000000</td>\n",
       "      <td>85.000000</td>\n",
       "      <td>50.000000</td>\n",
       "      <td>50.000000</td>\n",
       "      <td>475.000000</td>\n",
       "    </tr>\n",
       "  </tbody>\n",
       "</table>\n",
       "</div>"
      ],
      "text/plain": [
       "                Age    Age1stCode     YearsCode  YearsCodePro   WorkWeekHrs\n",
       "count  45436.000000  57467.000000  56776.000000  44128.000000  41147.000000\n",
       "mean      30.834294     15.476273     12.783130      8.870354     40.782153\n",
       "std        9.506982      5.113997      9.490771      7.760095     17.816102\n",
       "min       10.000000      5.000000      1.000000      1.000000      1.000000\n",
       "25%       24.000000     12.000000      6.000000      3.000000     40.000000\n",
       "50%       29.000000     15.000000     10.000000      6.000000     40.000000\n",
       "75%       35.000000     18.000000     17.000000     12.000000     44.000000\n",
       "max       99.000000     85.000000     50.000000     50.000000    475.000000"
      ]
     },
     "execution_count": 19,
     "metadata": {},
     "output_type": "execute_result"
    }
   ],
   "source": [
    "survey_df.describe()"
   ]
  },
  {
   "cell_type": "markdown",
   "id": "fb872cd8-2f61-451f-96a6-5e5e43b6ec46",
   "metadata": {},
   "source": [
    " The same holds for `WorkWeekHrs`. Let's ignore entries where the value for the column is higher than 140 hours. (~20 hours per day)."
   ]
  },
  {
   "cell_type": "code",
   "execution_count": 20,
   "id": "c4f57c04-62d5-45a8-8222-30b6131691e7",
   "metadata": {},
   "outputs": [],
   "source": [
    "survey_df.drop(survey_df[survey_df.WorkWeekHrs > 140].index , inplace=True)"
   ]
  },
  {
   "cell_type": "code",
   "execution_count": 21,
   "id": "df60aea4-45b9-4ee2-8503-b523ee0865ff",
   "metadata": {},
   "outputs": [
    {
     "data": {
      "text/plain": [
       "Man                                                            45895\n",
       "Woman                                                           3835\n",
       "Non-binary, genderqueer, or gender non-conforming                385\n",
       "Man;Non-binary, genderqueer, or gender non-conforming            121\n",
       "Woman;Non-binary, genderqueer, or gender non-conforming           92\n",
       "Woman;Man                                                         73\n",
       "Woman;Man;Non-binary, genderqueer, or gender non-conforming       25\n",
       "Name: Gender, dtype: int64"
      ]
     },
     "execution_count": 21,
     "metadata": {},
     "output_type": "execute_result"
    }
   ],
   "source": [
    "survey_df.Gender.value_counts()"
   ]
  },
  {
   "cell_type": "code",
   "execution_count": 22,
   "id": "80be316e-4979-439e-8463-0d68e0ea7c70",
   "metadata": {},
   "outputs": [],
   "source": [
    "survey_df.where(~(survey_df.Gender.str.contains(';', na=False)), np.nan, inplace=True)"
   ]
  },
  {
   "cell_type": "code",
   "execution_count": 23,
   "id": "67ce3e9b-38f4-4235-8031-d3687423f217",
   "metadata": {},
   "outputs": [
    {
     "data": {
      "text/html": [
       "<div>\n",
       "<style scoped>\n",
       "    .dataframe tbody tr th:only-of-type {\n",
       "        vertical-align: middle;\n",
       "    }\n",
       "\n",
       "    .dataframe tbody tr th {\n",
       "        vertical-align: top;\n",
       "    }\n",
       "\n",
       "    .dataframe thead th {\n",
       "        text-align: right;\n",
       "    }\n",
       "</style>\n",
       "<table border=\"1\" class=\"dataframe\">\n",
       "  <thead>\n",
       "    <tr style=\"text-align: right;\">\n",
       "      <th></th>\n",
       "      <th>Country</th>\n",
       "      <th>Age</th>\n",
       "      <th>Gender</th>\n",
       "      <th>EdLevel</th>\n",
       "      <th>UndergradMajor</th>\n",
       "      <th>Hobbyist</th>\n",
       "      <th>Age1stCode</th>\n",
       "      <th>YearsCode</th>\n",
       "      <th>YearsCodePro</th>\n",
       "      <th>LanguageWorkedWith</th>\n",
       "      <th>LanguageDesireNextYear</th>\n",
       "      <th>NEWLearn</th>\n",
       "      <th>NEWStuck</th>\n",
       "      <th>Employment</th>\n",
       "      <th>DevType</th>\n",
       "      <th>WorkWeekHrs</th>\n",
       "      <th>JobSat</th>\n",
       "      <th>JobFactors</th>\n",
       "      <th>NEWOvertime</th>\n",
       "      <th>NEWEdImpt</th>\n",
       "    </tr>\n",
       "  </thead>\n",
       "  <tbody>\n",
       "    <tr>\n",
       "      <th>32390</th>\n",
       "      <td>France</td>\n",
       "      <td>18.0</td>\n",
       "      <td>Man</td>\n",
       "      <td>Some college/university study without earning ...</td>\n",
       "      <td>Computer science, computer engineering, or sof...</td>\n",
       "      <td>Yes</td>\n",
       "      <td>9.0</td>\n",
       "      <td>9.0</td>\n",
       "      <td>NaN</td>\n",
       "      <td>Bash/Shell/PowerShell;C;Java;Python</td>\n",
       "      <td>Bash/Shell/PowerShell;C;Python;Rust</td>\n",
       "      <td>Every few months</td>\n",
       "      <td>Play games;Visit Stack Overflow;Panic;Watch he...</td>\n",
       "      <td>Student</td>\n",
       "      <td>NaN</td>\n",
       "      <td>NaN</td>\n",
       "      <td>NaN</td>\n",
       "      <td>NaN</td>\n",
       "      <td>NaN</td>\n",
       "      <td>NaN</td>\n",
       "    </tr>\n",
       "    <tr>\n",
       "      <th>31865</th>\n",
       "      <td>Poland</td>\n",
       "      <td>35.0</td>\n",
       "      <td>Man</td>\n",
       "      <td>Master’s degree (M.A., M.S., M.Eng., MBA, etc.)</td>\n",
       "      <td>Computer science, computer engineering, or sof...</td>\n",
       "      <td>No</td>\n",
       "      <td>13.0</td>\n",
       "      <td>16.0</td>\n",
       "      <td>12.0</td>\n",
       "      <td>Bash/Shell/PowerShell;C;C#;Go;HTML/CSS;Java;Ja...</td>\n",
       "      <td>Bash/Shell/PowerShell;C#;HTML/CSS;Java;JavaScr...</td>\n",
       "      <td>Once every few years</td>\n",
       "      <td>Call a coworker or friend;Visit Stack Overflow...</td>\n",
       "      <td>Independent contractor, freelancer, or self-em...</td>\n",
       "      <td>Developer, back-end</td>\n",
       "      <td>50.0</td>\n",
       "      <td>Slightly satisfied</td>\n",
       "      <td>Specific department or team I’d be working on;...</td>\n",
       "      <td>Occasionally: 1-2 days per quarter but less th...</td>\n",
       "      <td>Very important</td>\n",
       "    </tr>\n",
       "    <tr>\n",
       "      <th>52870</th>\n",
       "      <td>United States</td>\n",
       "      <td>22.0</td>\n",
       "      <td>Man</td>\n",
       "      <td>Bachelor’s degree (B.A., B.S., B.Eng., etc.)</td>\n",
       "      <td>Computer science, computer engineering, or sof...</td>\n",
       "      <td>Yes</td>\n",
       "      <td>15.0</td>\n",
       "      <td>7.0</td>\n",
       "      <td>NaN</td>\n",
       "      <td>Assembly;Bash/Shell/PowerShell;C;C++;Java;Pyth...</td>\n",
       "      <td>C++;Java;Python;SQL</td>\n",
       "      <td>Every few months</td>\n",
       "      <td>Play games;Visit Stack Overflow;Do other work ...</td>\n",
       "      <td>Student</td>\n",
       "      <td>NaN</td>\n",
       "      <td>NaN</td>\n",
       "      <td>NaN</td>\n",
       "      <td>Flex time or a flexible schedule;Remote work o...</td>\n",
       "      <td>NaN</td>\n",
       "      <td>NaN</td>\n",
       "    </tr>\n",
       "    <tr>\n",
       "      <th>57905</th>\n",
       "      <td>Philippines</td>\n",
       "      <td>18.0</td>\n",
       "      <td>Man</td>\n",
       "      <td>Secondary school (e.g. American high school, G...</td>\n",
       "      <td>NaN</td>\n",
       "      <td>No</td>\n",
       "      <td>18.0</td>\n",
       "      <td>NaN</td>\n",
       "      <td>NaN</td>\n",
       "      <td>C++;HTML/CSS;Java;PHP</td>\n",
       "      <td>NaN</td>\n",
       "      <td>NaN</td>\n",
       "      <td>Play games</td>\n",
       "      <td>Student</td>\n",
       "      <td>NaN</td>\n",
       "      <td>NaN</td>\n",
       "      <td>NaN</td>\n",
       "      <td>Family friendliness</td>\n",
       "      <td>NaN</td>\n",
       "      <td>NaN</td>\n",
       "    </tr>\n",
       "    <tr>\n",
       "      <th>25843</th>\n",
       "      <td>United States</td>\n",
       "      <td>NaN</td>\n",
       "      <td>Non-binary, genderqueer, or gender non-conforming</td>\n",
       "      <td>Other doctoral degree (Ph.D., Ed.D., etc.)</td>\n",
       "      <td>Computer science, computer engineering, or sof...</td>\n",
       "      <td>Yes</td>\n",
       "      <td>10.0</td>\n",
       "      <td>25.0</td>\n",
       "      <td>15.0</td>\n",
       "      <td>Assembly;C;C++;HTML/CSS;JavaScript;Perl;PHP;Py...</td>\n",
       "      <td>Assembly;Rust</td>\n",
       "      <td>Every few months</td>\n",
       "      <td>Panic</td>\n",
       "      <td>Employed full-time</td>\n",
       "      <td>Developer, back-end;System administrator</td>\n",
       "      <td>28.0</td>\n",
       "      <td>Very satisfied</td>\n",
       "      <td>Diversity of the company or organization;Flex ...</td>\n",
       "      <td>Never</td>\n",
       "      <td>Critically important</td>\n",
       "    </tr>\n",
       "    <tr>\n",
       "      <th>35366</th>\n",
       "      <td>Brazil</td>\n",
       "      <td>19.0</td>\n",
       "      <td>Woman</td>\n",
       "      <td>Some college/university study without earning ...</td>\n",
       "      <td>Computer science, computer engineering, or sof...</td>\n",
       "      <td>No</td>\n",
       "      <td>10.0</td>\n",
       "      <td>5.0</td>\n",
       "      <td>2.0</td>\n",
       "      <td>Bash/Shell/PowerShell;HTML/CSS;JavaScript;PHP;SQL</td>\n",
       "      <td>Bash/Shell/PowerShell;HTML/CSS;Java;JavaScript...</td>\n",
       "      <td>Once a year</td>\n",
       "      <td>Call a coworker or friend;Visit Stack Overflow...</td>\n",
       "      <td>Employed full-time</td>\n",
       "      <td>Developer, back-end;Developer, front-end;Devel...</td>\n",
       "      <td>40.0</td>\n",
       "      <td>Neither satisfied nor dissatisfied</td>\n",
       "      <td>Diversity of the company or organization;Langu...</td>\n",
       "      <td>Often: 1-2 days per week or more</td>\n",
       "      <td>Very important</td>\n",
       "    </tr>\n",
       "    <tr>\n",
       "      <th>2319</th>\n",
       "      <td>United States</td>\n",
       "      <td>49.0</td>\n",
       "      <td>Man</td>\n",
       "      <td>Master’s degree (M.A., M.S., M.Eng., MBA, etc.)</td>\n",
       "      <td>Another engineering discipline (such as civil,...</td>\n",
       "      <td>Yes</td>\n",
       "      <td>14.0</td>\n",
       "      <td>36.0</td>\n",
       "      <td>20.0</td>\n",
       "      <td>C;C#;VBA</td>\n",
       "      <td>C;C#;VBA</td>\n",
       "      <td>Once a decade</td>\n",
       "      <td>Visit Stack Overflow;Go for a walk or other ph...</td>\n",
       "      <td>Employed full-time</td>\n",
       "      <td>Developer, desktop or enterprise applications;...</td>\n",
       "      <td>40.0</td>\n",
       "      <td>Very satisfied</td>\n",
       "      <td>Flex time or a flexible schedule;Languages, fr...</td>\n",
       "      <td>Sometimes: 1-2 days per month but less than we...</td>\n",
       "      <td>Critically important</td>\n",
       "    </tr>\n",
       "    <tr>\n",
       "      <th>9547</th>\n",
       "      <td>Italy</td>\n",
       "      <td>37.0</td>\n",
       "      <td>Man</td>\n",
       "      <td>Secondary school (e.g. American high school, G...</td>\n",
       "      <td>NaN</td>\n",
       "      <td>No</td>\n",
       "      <td>32.0</td>\n",
       "      <td>5.0</td>\n",
       "      <td>5.0</td>\n",
       "      <td>HTML/CSS;JavaScript;PHP</td>\n",
       "      <td>HTML/CSS;JavaScript;PHP;Python</td>\n",
       "      <td>Every few months</td>\n",
       "      <td>Visit Stack Overflow;Watch help / tutorial videos</td>\n",
       "      <td>Employed full-time</td>\n",
       "      <td>Designer;Developer, front-end;Developer, full-...</td>\n",
       "      <td>30.0</td>\n",
       "      <td>Slightly dissatisfied</td>\n",
       "      <td>Languages, frameworks, and other technologies ...</td>\n",
       "      <td>Rarely: 1-2 days per year or less</td>\n",
       "      <td>Somewhat important</td>\n",
       "    </tr>\n",
       "    <tr>\n",
       "      <th>36020</th>\n",
       "      <td>United States</td>\n",
       "      <td>36.0</td>\n",
       "      <td>Man</td>\n",
       "      <td>Master’s degree (M.A., M.S., M.Eng., MBA, etc.)</td>\n",
       "      <td>A natural science (such as biology, chemistry,...</td>\n",
       "      <td>No</td>\n",
       "      <td>18.0</td>\n",
       "      <td>12.0</td>\n",
       "      <td>7.0</td>\n",
       "      <td>Bash/Shell/PowerShell;Go;JavaScript;Kotlin;SQL...</td>\n",
       "      <td>Go;TypeScript</td>\n",
       "      <td>Once every few years</td>\n",
       "      <td>Call a coworker or friend;Visit Stack Overflow...</td>\n",
       "      <td>Employed full-time</td>\n",
       "      <td>Developer, back-end;Developer, front-end;Devel...</td>\n",
       "      <td>40.0</td>\n",
       "      <td>Very dissatisfied</td>\n",
       "      <td>Specific department or team I’d be working on;...</td>\n",
       "      <td>Occasionally: 1-2 days per quarter but less th...</td>\n",
       "      <td>Somewhat important</td>\n",
       "    </tr>\n",
       "    <tr>\n",
       "      <th>3195</th>\n",
       "      <td>United States</td>\n",
       "      <td>NaN</td>\n",
       "      <td>Man</td>\n",
       "      <td>Bachelor’s degree (B.A., B.S., B.Eng., etc.)</td>\n",
       "      <td>Information systems, information technology, o...</td>\n",
       "      <td>Yes</td>\n",
       "      <td>18.0</td>\n",
       "      <td>5.0</td>\n",
       "      <td>NaN</td>\n",
       "      <td>Bash/Shell/PowerShell;C++;Dart;Go;HTML/CSS;Jav...</td>\n",
       "      <td>C;C#;Objective-C;Ruby;Scala;TypeScript</td>\n",
       "      <td>Once a year</td>\n",
       "      <td>Play games;Visit Stack Overflow;Watch help / t...</td>\n",
       "      <td>Not employed, but looking for work</td>\n",
       "      <td>Developer, back-end;Developer, front-end;Devel...</td>\n",
       "      <td>NaN</td>\n",
       "      <td>NaN</td>\n",
       "      <td>Industry that I’d be working in;Flex time or a...</td>\n",
       "      <td>NaN</td>\n",
       "      <td>Fairly important</td>\n",
       "    </tr>\n",
       "  </tbody>\n",
       "</table>\n",
       "</div>"
      ],
      "text/plain": [
       "             Country   Age                                             Gender  \\\n",
       "32390         France  18.0                                                Man   \n",
       "31865         Poland  35.0                                                Man   \n",
       "52870  United States  22.0                                                Man   \n",
       "57905    Philippines  18.0                                                Man   \n",
       "25843  United States   NaN  Non-binary, genderqueer, or gender non-conforming   \n",
       "35366         Brazil  19.0                                              Woman   \n",
       "2319   United States  49.0                                                Man   \n",
       "9547           Italy  37.0                                                Man   \n",
       "36020  United States  36.0                                                Man   \n",
       "3195   United States   NaN                                                Man   \n",
       "\n",
       "                                                 EdLevel  \\\n",
       "32390  Some college/university study without earning ...   \n",
       "31865    Master’s degree (M.A., M.S., M.Eng., MBA, etc.)   \n",
       "52870       Bachelor’s degree (B.A., B.S., B.Eng., etc.)   \n",
       "57905  Secondary school (e.g. American high school, G...   \n",
       "25843         Other doctoral degree (Ph.D., Ed.D., etc.)   \n",
       "35366  Some college/university study without earning ...   \n",
       "2319     Master’s degree (M.A., M.S., M.Eng., MBA, etc.)   \n",
       "9547   Secondary school (e.g. American high school, G...   \n",
       "36020    Master’s degree (M.A., M.S., M.Eng., MBA, etc.)   \n",
       "3195        Bachelor’s degree (B.A., B.S., B.Eng., etc.)   \n",
       "\n",
       "                                          UndergradMajor Hobbyist  Age1stCode  \\\n",
       "32390  Computer science, computer engineering, or sof...      Yes         9.0   \n",
       "31865  Computer science, computer engineering, or sof...       No        13.0   \n",
       "52870  Computer science, computer engineering, or sof...      Yes        15.0   \n",
       "57905                                                NaN       No        18.0   \n",
       "25843  Computer science, computer engineering, or sof...      Yes        10.0   \n",
       "35366  Computer science, computer engineering, or sof...       No        10.0   \n",
       "2319   Another engineering discipline (such as civil,...      Yes        14.0   \n",
       "9547                                                 NaN       No        32.0   \n",
       "36020  A natural science (such as biology, chemistry,...       No        18.0   \n",
       "3195   Information systems, information technology, o...      Yes        18.0   \n",
       "\n",
       "       YearsCode  YearsCodePro  \\\n",
       "32390        9.0           NaN   \n",
       "31865       16.0          12.0   \n",
       "52870        7.0           NaN   \n",
       "57905        NaN           NaN   \n",
       "25843       25.0          15.0   \n",
       "35366        5.0           2.0   \n",
       "2319        36.0          20.0   \n",
       "9547         5.0           5.0   \n",
       "36020       12.0           7.0   \n",
       "3195         5.0           NaN   \n",
       "\n",
       "                                      LanguageWorkedWith  \\\n",
       "32390                Bash/Shell/PowerShell;C;Java;Python   \n",
       "31865  Bash/Shell/PowerShell;C;C#;Go;HTML/CSS;Java;Ja...   \n",
       "52870  Assembly;Bash/Shell/PowerShell;C;C++;Java;Pyth...   \n",
       "57905                              C++;HTML/CSS;Java;PHP   \n",
       "25843  Assembly;C;C++;HTML/CSS;JavaScript;Perl;PHP;Py...   \n",
       "35366  Bash/Shell/PowerShell;HTML/CSS;JavaScript;PHP;SQL   \n",
       "2319                                            C;C#;VBA   \n",
       "9547                             HTML/CSS;JavaScript;PHP   \n",
       "36020  Bash/Shell/PowerShell;Go;JavaScript;Kotlin;SQL...   \n",
       "3195   Bash/Shell/PowerShell;C++;Dart;Go;HTML/CSS;Jav...   \n",
       "\n",
       "                                  LanguageDesireNextYear  \\\n",
       "32390                Bash/Shell/PowerShell;C;Python;Rust   \n",
       "31865  Bash/Shell/PowerShell;C#;HTML/CSS;Java;JavaScr...   \n",
       "52870                                C++;Java;Python;SQL   \n",
       "57905                                                NaN   \n",
       "25843                                      Assembly;Rust   \n",
       "35366  Bash/Shell/PowerShell;HTML/CSS;Java;JavaScript...   \n",
       "2319                                            C;C#;VBA   \n",
       "9547                      HTML/CSS;JavaScript;PHP;Python   \n",
       "36020                                      Go;TypeScript   \n",
       "3195              C;C#;Objective-C;Ruby;Scala;TypeScript   \n",
       "\n",
       "                   NEWLearn  \\\n",
       "32390      Every few months   \n",
       "31865  Once every few years   \n",
       "52870      Every few months   \n",
       "57905                   NaN   \n",
       "25843      Every few months   \n",
       "35366           Once a year   \n",
       "2319          Once a decade   \n",
       "9547       Every few months   \n",
       "36020  Once every few years   \n",
       "3195            Once a year   \n",
       "\n",
       "                                                NEWStuck  \\\n",
       "32390  Play games;Visit Stack Overflow;Panic;Watch he...   \n",
       "31865  Call a coworker or friend;Visit Stack Overflow...   \n",
       "52870  Play games;Visit Stack Overflow;Do other work ...   \n",
       "57905                                         Play games   \n",
       "25843                                              Panic   \n",
       "35366  Call a coworker or friend;Visit Stack Overflow...   \n",
       "2319   Visit Stack Overflow;Go for a walk or other ph...   \n",
       "9547   Visit Stack Overflow;Watch help / tutorial videos   \n",
       "36020  Call a coworker or friend;Visit Stack Overflow...   \n",
       "3195   Play games;Visit Stack Overflow;Watch help / t...   \n",
       "\n",
       "                                              Employment  \\\n",
       "32390                                            Student   \n",
       "31865  Independent contractor, freelancer, or self-em...   \n",
       "52870                                            Student   \n",
       "57905                                            Student   \n",
       "25843                                 Employed full-time   \n",
       "35366                                 Employed full-time   \n",
       "2319                                  Employed full-time   \n",
       "9547                                  Employed full-time   \n",
       "36020                                 Employed full-time   \n",
       "3195                  Not employed, but looking for work   \n",
       "\n",
       "                                                 DevType  WorkWeekHrs  \\\n",
       "32390                                                NaN          NaN   \n",
       "31865                                Developer, back-end         50.0   \n",
       "52870                                                NaN          NaN   \n",
       "57905                                                NaN          NaN   \n",
       "25843           Developer, back-end;System administrator         28.0   \n",
       "35366  Developer, back-end;Developer, front-end;Devel...         40.0   \n",
       "2319   Developer, desktop or enterprise applications;...         40.0   \n",
       "9547   Designer;Developer, front-end;Developer, full-...         30.0   \n",
       "36020  Developer, back-end;Developer, front-end;Devel...         40.0   \n",
       "3195   Developer, back-end;Developer, front-end;Devel...          NaN   \n",
       "\n",
       "                                   JobSat  \\\n",
       "32390                                 NaN   \n",
       "31865                  Slightly satisfied   \n",
       "52870                                 NaN   \n",
       "57905                                 NaN   \n",
       "25843                      Very satisfied   \n",
       "35366  Neither satisfied nor dissatisfied   \n",
       "2319                       Very satisfied   \n",
       "9547                Slightly dissatisfied   \n",
       "36020                   Very dissatisfied   \n",
       "3195                                  NaN   \n",
       "\n",
       "                                              JobFactors  \\\n",
       "32390                                                NaN   \n",
       "31865  Specific department or team I’d be working on;...   \n",
       "52870  Flex time or a flexible schedule;Remote work o...   \n",
       "57905                                Family friendliness   \n",
       "25843  Diversity of the company or organization;Flex ...   \n",
       "35366  Diversity of the company or organization;Langu...   \n",
       "2319   Flex time or a flexible schedule;Languages, fr...   \n",
       "9547   Languages, frameworks, and other technologies ...   \n",
       "36020  Specific department or team I’d be working on;...   \n",
       "3195   Industry that I’d be working in;Flex time or a...   \n",
       "\n",
       "                                             NEWOvertime             NEWEdImpt  \n",
       "32390                                                NaN                   NaN  \n",
       "31865  Occasionally: 1-2 days per quarter but less th...        Very important  \n",
       "52870                                                NaN                   NaN  \n",
       "57905                                                NaN                   NaN  \n",
       "25843                                              Never  Critically important  \n",
       "35366                   Often: 1-2 days per week or more        Very important  \n",
       "2319   Sometimes: 1-2 days per month but less than we...  Critically important  \n",
       "9547                   Rarely: 1-2 days per year or less    Somewhat important  \n",
       "36020  Occasionally: 1-2 days per quarter but less th...    Somewhat important  \n",
       "3195                                                 NaN      Fairly important  "
      ]
     },
     "execution_count": 23,
     "metadata": {},
     "output_type": "execute_result"
    }
   ],
   "source": [
    "survey_df.sample(10)"
   ]
  },
  {
   "cell_type": "markdown",
   "id": "8f33262a-d291-43bb-aa71-fe13b301c80c",
   "metadata": {},
   "source": [
    "### EDA"
   ]
  },
  {
   "cell_type": "markdown",
   "id": "953770bb-7b50-42f9-add3-a54cd3813ba6",
   "metadata": {},
   "source": [
    "### Country\n",
    "\n",
    "Let's look at the number of countries from which there are responses in the survey and plot the ten countries with the highest number of responses."
   ]
  },
  {
   "cell_type": "code",
   "execution_count": 24,
   "id": "369b31c5-6071-44a1-a27a-c03f6613ca53",
   "metadata": {},
   "outputs": [
    {
     "data": {
      "text/plain": [
       "'Where do you live?'"
      ]
     },
     "execution_count": 24,
     "metadata": {},
     "output_type": "execute_result"
    }
   ],
   "source": [
    "schema_df.Country"
   ]
  },
  {
   "cell_type": "code",
   "execution_count": 25,
   "id": "d43e0bd6-2767-4b13-b1ee-6f16b1f680a8",
   "metadata": {},
   "outputs": [
    {
     "data": {
      "text/plain": [
       "183"
      ]
     },
     "execution_count": 25,
     "metadata": {},
     "output_type": "execute_result"
    }
   ],
   "source": [
    "survey_df.Country.nunique()"
   ]
  },
  {
   "cell_type": "code",
   "execution_count": 26,
   "id": "576db93e-3db0-47d0-9529-5240f1bf89d5",
   "metadata": {},
   "outputs": [],
   "source": [
    "top_countries = survey_df.Country.value_counts().head(15)"
   ]
  },
  {
   "cell_type": "code",
   "execution_count": 27,
   "id": "bbcc09b3-1526-475f-94f3-aaa786e22b63",
   "metadata": {},
   "outputs": [
    {
     "data": {
      "text/plain": [
       "United States         12371\n",
       "India                  8364\n",
       "United Kingdom         3881\n",
       "Germany                3864\n",
       "Canada                 2175\n",
       "France                 1884\n",
       "Brazil                 1804\n",
       "Netherlands            1332\n",
       "Poland                 1259\n",
       "Australia              1199\n",
       "Spain                  1157\n",
       "Italy                  1115\n",
       "Russian Federation     1085\n",
       "Sweden                  879\n",
       "Pakistan                802\n",
       "Name: Country, dtype: int64"
      ]
     },
     "execution_count": 27,
     "metadata": {},
     "output_type": "execute_result"
    }
   ],
   "source": [
    "top_countries"
   ]
  },
  {
   "cell_type": "code",
   "execution_count": 28,
   "id": "d4719b72-a859-4644-b838-3c2cbbc982d8",
   "metadata": {},
   "outputs": [
    {
     "data": {
      "image/png": "[encoded data removed]",
      "text/plain": [
       "<Figure size 864x432 with 1 Axes>"
      ]
     },
     "metadata": {
      "needs_background": "light"
     },
     "output_type": "display_data"
    }
   ],
   "source": [
    "plt.figure(figsize=(12,6))\n",
    "plt.bar(top_countries.index, top_countries)\n",
    "plt.title(schema_df.Country)\n",
    "plt.xlabel(\"Counties\")\n",
    "plt.ylabel(\"No of Developers\")\n",
    "plt.xticks(rotation=75)\n",
    "plt.show()"
   ]
  },
  {
   "cell_type": "markdown",
   "id": "d70ce4ee-f771-4f37-aaf9-dcc524aa8789",
   "metadata": {},
   "source": [
    " It appears that a disproportionately high number of respondents are from the US and India, probably because the survey is in English, and these countries have the highest English-speaking populations."
   ]
  },
  {
   "cell_type": "markdown",
   "id": "1b1be24a-8a2a-4af5-b8d8-81cb0a8c30ba",
   "metadata": {},
   "source": [
    "### Age\n",
    "\n",
    "The distribution of respondents' age is another crucial factor to look at. We can use a histogram to visualize it. "
   ]
  },
  {
   "cell_type": "code",
   "execution_count": 29,
   "id": "0f1b2bdb-3861-4f0b-a3a5-95cc6581957d",
   "metadata": {},
   "outputs": [
    {
     "data": {
      "text/plain": [
       "'What is your age (in years)? If you prefer not to answer, you may leave this question blank.'"
      ]
     },
     "execution_count": 29,
     "metadata": {},
     "output_type": "execute_result"
    }
   ],
   "source": [
    "schema_df.Age"
   ]
  },
  {
   "cell_type": "code",
   "execution_count": 30,
   "id": "8c12f3ae-91d1-4580-bd24-ccde7ede3a92",
   "metadata": {},
   "outputs": [
    {
     "data": {
      "image/png": "[encoded data removed]",
      "text/plain": [
       "<Figure size 864x432 with 1 Axes>"
      ]
     },
     "metadata": {
      "needs_background": "light"
     },
     "output_type": "display_data"
    }
   ],
   "source": [
    "plt.figure(figsize=(12,6))\n",
    "plt.hist(survey_df.Age, bins=np.arange(10, 100,5))\n",
    "plt.xlabel(\"Age\")\n",
    "plt.ylabel(\"Number of Developers\")\n",
    "plt.title(schema_df.Age)\n",
    "plt.show()"
   ]
  },
  {
   "cell_type": "markdown",
   "id": "6969328d-70ea-4844-ab2f-e28f8e3f37ec",
   "metadata": {},
   "source": [
    " It appears that a large percentage of respondents are 20-45 years old. "
   ]
  },
  {
   "cell_type": "markdown",
   "id": "79c1d81c-1e48-4e00-9537-ca456879ff67",
   "metadata": {},
   "source": [
    "### Gender\n",
    "\n",
    "Let's look at the distribution of responses for the Gender. It's a well-known fact that women and non-binary genders are underrepresented in the programming community, so we might expect to see a skewed distribution here."
   ]
  },
  {
   "cell_type": "code",
   "execution_count": 31,
   "id": "c2f632dc-e5a1-40c5-a997-045be4924361",
   "metadata": {},
   "outputs": [],
   "source": [
    "gender = survey_df.Gender.value_counts()"
   ]
  },
  {
   "cell_type": "code",
   "execution_count": 32,
   "id": "ff5ce8b6-5c2d-477d-8256-7784fe37c784",
   "metadata": {},
   "outputs": [
    {
     "data": {
      "text/plain": [
       "Man                                                  45895\n",
       "Woman                                                 3835\n",
       "Non-binary, genderqueer, or gender non-conforming      385\n",
       "Name: Gender, dtype: int64"
      ]
     },
     "execution_count": 32,
     "metadata": {},
     "output_type": "execute_result"
    }
   ],
   "source": [
    "gender"
   ]
  },
  {
   "cell_type": "code",
   "execution_count": 33,
   "id": "2a751644-f127-44b3-9718-59f3df3afae0",
   "metadata": {},
   "outputs": [
    {
     "data": {
      "image/png": "[encoded data removed]",
      "text/plain": [
       "<Figure size 864x432 with 1 Axes>"
      ]
     },
     "metadata": {},
     "output_type": "display_data"
    }
   ],
   "source": [
    "plt.figure(figsize=(12,6))\n",
    "plt.title(schema_df.Gender)\n",
    "plt.pie(gender, labels=gender.index, autopct='%1.1f%%', startangle=180);"
   ]
  },
  {
   "cell_type": "markdown",
   "id": "2012209f-fbaf-44d0-b557-b2d4b56aab01",
   "metadata": {},
   "source": [
    " Only about 8% of survey respondents who have answered the question identify as women or non-binary. This number is lower than the overall percentage of women & non-binary genders in the programming community - which is estimated to be around 12%."
   ]
  },
  {
   "cell_type": "markdown",
   "id": "fd25cf07-2f74-4e49-98e5-0c55ac49847f",
   "metadata": {},
   "source": [
    "### Education Level\n",
    "\n",
    "Formal education in computer science is often considered an essential requirement for becoming a programmer. However, there are many free resources & tutorials available online to learn programming. Let's compare the education levels of respondents to gain some insight into this. We'll use a horizontal bar plot here."
   ]
  },
  {
   "cell_type": "code",
   "execution_count": 34,
   "id": "88ceccbc-fd2c-4fd1-8914-6c62ec5d7d7e",
   "metadata": {},
   "outputs": [
    {
     "data": {
      "text/plain": [
       "'Which of the following best describes the highest level of formal education that you’ve completed?'"
      ]
     },
     "execution_count": 34,
     "metadata": {},
     "output_type": "execute_result"
    }
   ],
   "source": [
    "schema_df.EdLevel"
   ]
  },
  {
   "cell_type": "code",
   "execution_count": 35,
   "id": "e8de1f61-5a76-4354-9dd2-5138cdb45a9f",
   "metadata": {},
   "outputs": [
    {
     "data": {
      "text/plain": [
       "Bachelor’s degree (B.A., B.S., B.Eng., etc.)                                          26356\n",
       "Master’s degree (M.A., M.S., M.Eng., MBA, etc.)                                       13024\n",
       "Some college/university study without earning a degree                                 7163\n",
       "Secondary school (e.g. American high school, German Realschule or Gymnasium, etc.)     4724\n",
       "Associate degree (A.A., A.S., etc.)                                                    1831\n",
       "Other doctoral degree (Ph.D., Ed.D., etc.)                                             1681\n",
       "Primary/elementary school                                                               929\n",
       "Professional degree (JD, MD, etc.)                                                      793\n",
       "I never completed any formal education                                                  480\n",
       "Name: EdLevel, dtype: int64"
      ]
     },
     "execution_count": 35,
     "metadata": {},
     "output_type": "execute_result"
    }
   ],
   "source": [
    "survey_df.EdLevel.value_counts()"
   ]
  },
  {
   "cell_type": "code",
   "execution_count": 36,
   "id": "0bf61132-389f-4f19-985c-4904d54709f9",
   "metadata": {},
   "outputs": [
    {
     "data": {
      "image/png": "[encoded data removed]",
      "text/plain": [
       "<Figure size 432x288 with 1 Axes>"
      ]
     },
     "metadata": {
      "needs_background": "light"
     },
     "output_type": "display_data"
    }
   ],
   "source": [
    "sns.countplot(y=survey_df.EdLevel)\n",
    "plt.xticks(rotation=75);\n",
    "plt.title(schema_df.EdLevel)\n",
    "plt.ylabel(None);"
   ]
  },
  {
   "cell_type": "markdown",
   "id": "b175b350-ba80-40ec-bd9f-112cec27ab4c",
   "metadata": {},
   "source": [
    " It appears that well over half of the respondents hold a bachelor's or master's degree, so most programmers seem to have some college education. However, it's not clear from this graph alone if they hold a degree in computer science."
   ]
  },
  {
   "cell_type": "code",
   "execution_count": 37,
   "id": "012bdd9a-2db0-47d0-8da7-0093be24eb7e",
   "metadata": {},
   "outputs": [
    {
     "data": {
      "text/plain": [
       "'What was your primary field of study?'"
      ]
     },
     "execution_count": 37,
     "metadata": {},
     "output_type": "execute_result"
    }
   ],
   "source": [
    "schema_df.UndergradMajor"
   ]
  },
  {
   "cell_type": "code",
   "execution_count": 38,
   "id": "ceb0fdc6-b42e-4edb-84e1-3ee13e10610e",
   "metadata": {},
   "outputs": [
    {
     "data": {
      "image/png": "[encoded data removed]",
      "text/plain": [
       "<Figure size 432x288 with 1 Axes>"
      ]
     },
     "metadata": {
      "needs_background": "light"
     },
     "output_type": "display_data"
    }
   ],
   "source": [
    "undergrad_pct = survey_df.UndergradMajor.value_counts() * 100 / survey_df.UndergradMajor.count()\n",
    "\n",
    "sns.barplot(x=undergrad_pct, y=undergrad_pct.index)\n",
    "\n",
    "plt.title(schema_df.UndergradMajor)\n",
    "plt.ylabel(None);\n",
    "plt.xlabel('Percentage');"
   ]
  },
  {
   "cell_type": "markdown",
   "id": "7b5ba120-4421-445d-9e89-525b1318ea18",
   "metadata": {},
   "source": [
    "### Employment\n",
    "\n",
    "Freelancing or contract work is a common choice among programmers, so it would be interesting to compare the breakdown between full-time, part-time, and freelance work. Let's visualize the data from the `Employment` column."
   ]
  },
  {
   "cell_type": "markdown",
   "id": "cc4fbe2f-92d0-486f-8d92-f5ae21ed54e0",
   "metadata": {},
   "source": [
    " It turns out that 40% of programmers holding a college degree have a field of study other than computer science - which is very encouraging"
   ]
  },
  {
   "cell_type": "code",
   "execution_count": 39,
   "id": "48285a9f-867d-405c-9f0f-2eacb216de9c",
   "metadata": {},
   "outputs": [
    {
     "data": {
      "text/plain": [
       "'Which of the following best describes your current employment status?'"
      ]
     },
     "execution_count": 39,
     "metadata": {},
     "output_type": "execute_result"
    }
   ],
   "source": [
    "schema_df.Employment"
   ]
  },
  {
   "cell_type": "code",
   "execution_count": 40,
   "id": "7c6c201a-90f2-4c9c-beaa-e13c31a640a7",
   "metadata": {},
   "outputs": [
    {
     "data": {
      "image/png": "[encoded data removed]",
      "text/plain": [
       "<Figure size 432x288 with 1 Axes>"
      ]
     },
     "metadata": {
      "needs_background": "light"
     },
     "output_type": "display_data"
    }
   ],
   "source": [
    "(survey_df.Employment.value_counts(normalize=True, ascending=True)*100).plot(kind='barh', color='g')\n",
    "plt.title(schema_df.Employment)\n",
    "plt.xlabel('Percentage');"
   ]
  },
  {
   "cell_type": "code",
   "execution_count": 41,
   "id": "1d815aeb-d8ac-441a-a655-ee74707ff177",
   "metadata": {},
   "outputs": [
    {
     "data": {
      "text/plain": [
       "'Which of the following describe you? Please select all that apply.'"
      ]
     },
     "execution_count": 41,
     "metadata": {},
     "output_type": "execute_result"
    }
   ],
   "source": [
    "schema_df.DevType"
   ]
  },
  {
   "cell_type": "code",
   "execution_count": 42,
   "id": "14f0fd7a-959c-4d1c-83f9-a338e8f80219",
   "metadata": {},
   "outputs": [
    {
     "data": {
      "text/plain": [
       "array(['Developer, desktop or enterprise applications;Developer, full-stack',\n",
       "       'Developer, full-stack;Developer, mobile', nan, ...,\n",
       "       'Data scientist or machine learning specialist;Database administrator;Developer, back-end;Developer, front-end;System administrator',\n",
       "       'Academic researcher;Data or business analyst;Data scientist or machine learning specialist;Database administrator;Designer;Developer, back-end;Developer, desktop or enterprise applications;Developer, embedded applications or devices;Developer, front-end;Developer, full-stack;Developer, game or graphics;Developer, mobile;Developer, QA or test;DevOps specialist;Senior executive/VP;System administrator',\n",
       "       'Data or business analyst;Developer, mobile;Senior executive/VP;System administrator'],\n",
       "      dtype=object)"
      ]
     },
     "execution_count": 42,
     "metadata": {},
     "output_type": "execute_result"
    }
   ],
   "source": [
    "survey_df.DevType.unique()"
   ]
  },
  {
   "cell_type": "code",
   "execution_count": 43,
   "id": "209a4910-c44e-483c-a604-d12ef2a9dc1a",
   "metadata": {},
   "outputs": [
    {
     "data": {
      "text/plain": [
       "Developer, full-stack                                                                                                                                                           4396\n",
       "Developer, back-end                                                                                                                                                             3056\n",
       "Developer, back-end;Developer, front-end;Developer, full-stack                                                                                                                  2214\n",
       "Developer, back-end;Developer, full-stack                                                                                                                                       1465\n",
       "Developer, front-end                                                                                                                                                            1390\n",
       "                                                                                                                                                                                ... \n",
       "Database administrator;Developer, back-end;Developer, front-end;Developer, full-stack;Developer, QA or test;Senior executive/VP                                                    1\n",
       "Database administrator;Developer, back-end;Developer, front-end;Developer, full-stack;Product manager;Senior executive/VP                                                          1\n",
       "Developer, back-end;Developer, full-stack;Developer, mobile;DevOps specialist;Educator;System administrator                                                                        1\n",
       "Data or business analyst;Database administrator;Developer, back-end;Developer, desktop or enterprise applications;Developer, front-end;Developer, mobile;Engineering manager       1\n",
       "Data or business analyst;Developer, mobile;Senior executive/VP;System administrator                                                                                                1\n",
       "Name: DevType, Length: 8213, dtype: int64"
      ]
     },
     "execution_count": 43,
     "metadata": {},
     "output_type": "execute_result"
    }
   ],
   "source": [
    "survey_df.DevType.value_counts()"
   ]
  },
  {
   "cell_type": "code",
   "execution_count": 44,
   "id": "13a0c7fb-1ec2-43b2-b80d-4a1a980b2366",
   "metadata": {},
   "outputs": [],
   "source": [
    "def split_values(col_series):\n",
    "    result_df = col_series.to_frame()\n",
    "    options = []\n",
    "    # Iterate over the column\n",
    "    for idx, value  in col_series[col_series.notnull()].iteritems():\n",
    "        # Break each value into list of options\n",
    "        for option in value.split(';'):\n",
    "            # Add the option as a column to result\n",
    "            if not option in result_df.columns:\n",
    "                options.append(option)\n",
    "                result_df[option] = False\n",
    "            # Mark the value in the option column as True\n",
    "            result_df.at[idx, option] = True\n",
    "    return result_df[options]"
   ]
  },
  {
   "cell_type": "code",
   "execution_count": 45,
   "id": "93c95644-ba9b-49c2-8b72-9bd662fb2f07",
   "metadata": {},
   "outputs": [],
   "source": [
    "devtype_df = split_values(survey_df.DevType)"
   ]
  },
  {
   "cell_type": "code",
   "execution_count": 46,
   "id": "dcacf887-8bf8-4768-9f25-99deea10f9e0",
   "metadata": {},
   "outputs": [
    {
     "data": {
      "text/html": [
       "<div>\n",
       "<style scoped>\n",
       "    .dataframe tbody tr th:only-of-type {\n",
       "        vertical-align: middle;\n",
       "    }\n",
       "\n",
       "    .dataframe tbody tr th {\n",
       "        vertical-align: top;\n",
       "    }\n",
       "\n",
       "    .dataframe thead th {\n",
       "        text-align: right;\n",
       "    }\n",
       "</style>\n",
       "<table border=\"1\" class=\"dataframe\">\n",
       "  <thead>\n",
       "    <tr style=\"text-align: right;\">\n",
       "      <th></th>\n",
       "      <th>Developer, desktop or enterprise applications</th>\n",
       "      <th>Developer, full-stack</th>\n",
       "      <th>Developer, mobile</th>\n",
       "      <th>Designer</th>\n",
       "      <th>Developer, front-end</th>\n",
       "      <th>Developer, back-end</th>\n",
       "      <th>Developer, QA or test</th>\n",
       "      <th>DevOps specialist</th>\n",
       "      <th>Developer, game or graphics</th>\n",
       "      <th>Database administrator</th>\n",
       "      <th>...</th>\n",
       "      <th>System administrator</th>\n",
       "      <th>Engineering manager</th>\n",
       "      <th>Product manager</th>\n",
       "      <th>Data or business analyst</th>\n",
       "      <th>Academic researcher</th>\n",
       "      <th>Data scientist or machine learning specialist</th>\n",
       "      <th>Scientist</th>\n",
       "      <th>Senior executive/VP</th>\n",
       "      <th>Engineer, site reliability</th>\n",
       "      <th>Marketing or sales professional</th>\n",
       "    </tr>\n",
       "  </thead>\n",
       "  <tbody>\n",
       "    <tr>\n",
       "      <th>0</th>\n",
       "      <td>True</td>\n",
       "      <td>True</td>\n",
       "      <td>False</td>\n",
       "      <td>False</td>\n",
       "      <td>False</td>\n",
       "      <td>False</td>\n",
       "      <td>False</td>\n",
       "      <td>False</td>\n",
       "      <td>False</td>\n",
       "      <td>False</td>\n",
       "      <td>...</td>\n",
       "      <td>False</td>\n",
       "      <td>False</td>\n",
       "      <td>False</td>\n",
       "      <td>False</td>\n",
       "      <td>False</td>\n",
       "      <td>False</td>\n",
       "      <td>False</td>\n",
       "      <td>False</td>\n",
       "      <td>False</td>\n",
       "      <td>False</td>\n",
       "    </tr>\n",
       "    <tr>\n",
       "      <th>1</th>\n",
       "      <td>False</td>\n",
       "      <td>True</td>\n",
       "      <td>True</td>\n",
       "      <td>False</td>\n",
       "      <td>False</td>\n",
       "      <td>False</td>\n",
       "      <td>False</td>\n",
       "      <td>False</td>\n",
       "      <td>False</td>\n",
       "      <td>False</td>\n",
       "      <td>...</td>\n",
       "      <td>False</td>\n",
       "      <td>False</td>\n",
       "      <td>False</td>\n",
       "      <td>False</td>\n",
       "      <td>False</td>\n",
       "      <td>False</td>\n",
       "      <td>False</td>\n",
       "      <td>False</td>\n",
       "      <td>False</td>\n",
       "      <td>False</td>\n",
       "    </tr>\n",
       "    <tr>\n",
       "      <th>2</th>\n",
       "      <td>False</td>\n",
       "      <td>False</td>\n",
       "      <td>False</td>\n",
       "      <td>False</td>\n",
       "      <td>False</td>\n",
       "      <td>False</td>\n",
       "      <td>False</td>\n",
       "      <td>False</td>\n",
       "      <td>False</td>\n",
       "      <td>False</td>\n",
       "      <td>...</td>\n",
       "      <td>False</td>\n",
       "      <td>False</td>\n",
       "      <td>False</td>\n",
       "      <td>False</td>\n",
       "      <td>False</td>\n",
       "      <td>False</td>\n",
       "      <td>False</td>\n",
       "      <td>False</td>\n",
       "      <td>False</td>\n",
       "      <td>False</td>\n",
       "    </tr>\n",
       "    <tr>\n",
       "      <th>3</th>\n",
       "      <td>False</td>\n",
       "      <td>False</td>\n",
       "      <td>False</td>\n",
       "      <td>False</td>\n",
       "      <td>False</td>\n",
       "      <td>False</td>\n",
       "      <td>False</td>\n",
       "      <td>False</td>\n",
       "      <td>False</td>\n",
       "      <td>False</td>\n",
       "      <td>...</td>\n",
       "      <td>False</td>\n",
       "      <td>False</td>\n",
       "      <td>False</td>\n",
       "      <td>False</td>\n",
       "      <td>False</td>\n",
       "      <td>False</td>\n",
       "      <td>False</td>\n",
       "      <td>False</td>\n",
       "      <td>False</td>\n",
       "      <td>False</td>\n",
       "    </tr>\n",
       "    <tr>\n",
       "      <th>4</th>\n",
       "      <td>False</td>\n",
       "      <td>False</td>\n",
       "      <td>False</td>\n",
       "      <td>False</td>\n",
       "      <td>False</td>\n",
       "      <td>False</td>\n",
       "      <td>False</td>\n",
       "      <td>False</td>\n",
       "      <td>False</td>\n",
       "      <td>False</td>\n",
       "      <td>...</td>\n",
       "      <td>False</td>\n",
       "      <td>False</td>\n",
       "      <td>False</td>\n",
       "      <td>False</td>\n",
       "      <td>False</td>\n",
       "      <td>False</td>\n",
       "      <td>False</td>\n",
       "      <td>False</td>\n",
       "      <td>False</td>\n",
       "      <td>False</td>\n",
       "    </tr>\n",
       "    <tr>\n",
       "      <th>...</th>\n",
       "      <td>...</td>\n",
       "      <td>...</td>\n",
       "      <td>...</td>\n",
       "      <td>...</td>\n",
       "      <td>...</td>\n",
       "      <td>...</td>\n",
       "      <td>...</td>\n",
       "      <td>...</td>\n",
       "      <td>...</td>\n",
       "      <td>...</td>\n",
       "      <td>...</td>\n",
       "      <td>...</td>\n",
       "      <td>...</td>\n",
       "      <td>...</td>\n",
       "      <td>...</td>\n",
       "      <td>...</td>\n",
       "      <td>...</td>\n",
       "      <td>...</td>\n",
       "      <td>...</td>\n",
       "      <td>...</td>\n",
       "      <td>...</td>\n",
       "    </tr>\n",
       "    <tr>\n",
       "      <th>64456</th>\n",
       "      <td>False</td>\n",
       "      <td>False</td>\n",
       "      <td>False</td>\n",
       "      <td>False</td>\n",
       "      <td>False</td>\n",
       "      <td>False</td>\n",
       "      <td>False</td>\n",
       "      <td>False</td>\n",
       "      <td>False</td>\n",
       "      <td>False</td>\n",
       "      <td>...</td>\n",
       "      <td>False</td>\n",
       "      <td>False</td>\n",
       "      <td>False</td>\n",
       "      <td>False</td>\n",
       "      <td>False</td>\n",
       "      <td>False</td>\n",
       "      <td>False</td>\n",
       "      <td>True</td>\n",
       "      <td>False</td>\n",
       "      <td>False</td>\n",
       "    </tr>\n",
       "    <tr>\n",
       "      <th>64457</th>\n",
       "      <td>False</td>\n",
       "      <td>False</td>\n",
       "      <td>False</td>\n",
       "      <td>False</td>\n",
       "      <td>False</td>\n",
       "      <td>False</td>\n",
       "      <td>False</td>\n",
       "      <td>False</td>\n",
       "      <td>False</td>\n",
       "      <td>False</td>\n",
       "      <td>...</td>\n",
       "      <td>False</td>\n",
       "      <td>False</td>\n",
       "      <td>False</td>\n",
       "      <td>False</td>\n",
       "      <td>False</td>\n",
       "      <td>False</td>\n",
       "      <td>False</td>\n",
       "      <td>False</td>\n",
       "      <td>False</td>\n",
       "      <td>False</td>\n",
       "    </tr>\n",
       "    <tr>\n",
       "      <th>64458</th>\n",
       "      <td>False</td>\n",
       "      <td>False</td>\n",
       "      <td>False</td>\n",
       "      <td>False</td>\n",
       "      <td>False</td>\n",
       "      <td>False</td>\n",
       "      <td>False</td>\n",
       "      <td>False</td>\n",
       "      <td>False</td>\n",
       "      <td>False</td>\n",
       "      <td>...</td>\n",
       "      <td>False</td>\n",
       "      <td>False</td>\n",
       "      <td>False</td>\n",
       "      <td>False</td>\n",
       "      <td>False</td>\n",
       "      <td>False</td>\n",
       "      <td>False</td>\n",
       "      <td>False</td>\n",
       "      <td>False</td>\n",
       "      <td>False</td>\n",
       "    </tr>\n",
       "    <tr>\n",
       "      <th>64459</th>\n",
       "      <td>False</td>\n",
       "      <td>False</td>\n",
       "      <td>False</td>\n",
       "      <td>False</td>\n",
       "      <td>False</td>\n",
       "      <td>False</td>\n",
       "      <td>False</td>\n",
       "      <td>False</td>\n",
       "      <td>False</td>\n",
       "      <td>False</td>\n",
       "      <td>...</td>\n",
       "      <td>False</td>\n",
       "      <td>False</td>\n",
       "      <td>False</td>\n",
       "      <td>False</td>\n",
       "      <td>False</td>\n",
       "      <td>False</td>\n",
       "      <td>False</td>\n",
       "      <td>False</td>\n",
       "      <td>False</td>\n",
       "      <td>False</td>\n",
       "    </tr>\n",
       "    <tr>\n",
       "      <th>64460</th>\n",
       "      <td>False</td>\n",
       "      <td>False</td>\n",
       "      <td>False</td>\n",
       "      <td>False</td>\n",
       "      <td>False</td>\n",
       "      <td>False</td>\n",
       "      <td>False</td>\n",
       "      <td>False</td>\n",
       "      <td>False</td>\n",
       "      <td>False</td>\n",
       "      <td>...</td>\n",
       "      <td>False</td>\n",
       "      <td>False</td>\n",
       "      <td>False</td>\n",
       "      <td>False</td>\n",
       "      <td>False</td>\n",
       "      <td>False</td>\n",
       "      <td>False</td>\n",
       "      <td>False</td>\n",
       "      <td>False</td>\n",
       "      <td>False</td>\n",
       "    </tr>\n",
       "  </tbody>\n",
       "</table>\n",
       "<p>64306 rows × 23 columns</p>\n",
       "</div>"
      ],
      "text/plain": [
       "       Developer, desktop or enterprise applications  Developer, full-stack  \\\n",
       "0                                               True                   True   \n",
       "1                                              False                   True   \n",
       "2                                              False                  False   \n",
       "3                                              False                  False   \n",
       "4                                              False                  False   \n",
       "...                                              ...                    ...   \n",
       "64456                                          False                  False   \n",
       "64457                                          False                  False   \n",
       "64458                                          False                  False   \n",
       "64459                                          False                  False   \n",
       "64460                                          False                  False   \n",
       "\n",
       "       Developer, mobile  Designer  Developer, front-end  Developer, back-end  \\\n",
       "0                  False     False                 False                False   \n",
       "1                   True     False                 False                False   \n",
       "2                  False     False                 False                False   \n",
       "3                  False     False                 False                False   \n",
       "4                  False     False                 False                False   \n",
       "...                  ...       ...                   ...                  ...   \n",
       "64456              False     False                 False                False   \n",
       "64457              False     False                 False                False   \n",
       "64458              False     False                 False                False   \n",
       "64459              False     False                 False                False   \n",
       "64460              False     False                 False                False   \n",
       "\n",
       "       Developer, QA or test  DevOps specialist  Developer, game or graphics  \\\n",
       "0                      False              False                        False   \n",
       "1                      False              False                        False   \n",
       "2                      False              False                        False   \n",
       "3                      False              False                        False   \n",
       "4                      False              False                        False   \n",
       "...                      ...                ...                          ...   \n",
       "64456                  False              False                        False   \n",
       "64457                  False              False                        False   \n",
       "64458                  False              False                        False   \n",
       "64459                  False              False                        False   \n",
       "64460                  False              False                        False   \n",
       "\n",
       "       Database administrator  ...  System administrator  Engineering manager  \\\n",
       "0                       False  ...                 False                False   \n",
       "1                       False  ...                 False                False   \n",
       "2                       False  ...                 False                False   \n",
       "3                       False  ...                 False                False   \n",
       "4                       False  ...                 False                False   \n",
       "...                       ...  ...                   ...                  ...   \n",
       "64456                   False  ...                 False                False   \n",
       "64457                   False  ...                 False                False   \n",
       "64458                   False  ...                 False                False   \n",
       "64459                   False  ...                 False                False   \n",
       "64460                   False  ...                 False                False   \n",
       "\n",
       "       Product manager  Data or business analyst  Academic researcher  \\\n",
       "0                False                     False                False   \n",
       "1                False                     False                False   \n",
       "2                False                     False                False   \n",
       "3                False                     False                False   \n",
       "4                False                     False                False   \n",
       "...                ...                       ...                  ...   \n",
       "64456            False                     False                False   \n",
       "64457            False                     False                False   \n",
       "64458            False                     False                False   \n",
       "64459            False                     False                False   \n",
       "64460            False                     False                False   \n",
       "\n",
       "       Data scientist or machine learning specialist  Scientist  \\\n",
       "0                                              False      False   \n",
       "1                                              False      False   \n",
       "2                                              False      False   \n",
       "3                                              False      False   \n",
       "4                                              False      False   \n",
       "...                                              ...        ...   \n",
       "64456                                          False      False   \n",
       "64457                                          False      False   \n",
       "64458                                          False      False   \n",
       "64459                                          False      False   \n",
       "64460                                          False      False   \n",
       "\n",
       "       Senior executive/VP  Engineer, site reliability  \\\n",
       "0                    False                       False   \n",
       "1                    False                       False   \n",
       "2                    False                       False   \n",
       "3                    False                       False   \n",
       "4                    False                       False   \n",
       "...                    ...                         ...   \n",
       "64456                 True                       False   \n",
       "64457                False                       False   \n",
       "64458                False                       False   \n",
       "64459                False                       False   \n",
       "64460                False                       False   \n",
       "\n",
       "       Marketing or sales professional  \n",
       "0                                False  \n",
       "1                                False  \n",
       "2                                False  \n",
       "3                                False  \n",
       "4                                False  \n",
       "...                                ...  \n",
       "64456                            False  \n",
       "64457                            False  \n",
       "64458                            False  \n",
       "64459                            False  \n",
       "64460                            False  \n",
       "\n",
       "[64306 rows x 23 columns]"
      ]
     },
     "execution_count": 46,
     "metadata": {},
     "output_type": "execute_result"
    }
   ],
   "source": [
    "devtype_df"
   ]
  },
  {
   "cell_type": "code",
   "execution_count": 47,
   "id": "6a968ed6-4575-4ba2-b027-ca58c6d99d5d",
   "metadata": {},
   "outputs": [
    {
     "data": {
      "text/plain": [
       "Developer, back-end                              26996\n",
       "Developer, full-stack                            26915\n",
       "Developer, front-end                             18128\n",
       "Developer, desktop or enterprise applications    11687\n",
       "Developer, mobile                                 9406\n",
       "DevOps specialist                                 5915\n",
       "Database administrator                            5658\n",
       "Designer                                          5262\n",
       "System administrator                              5185\n",
       "Developer, embedded applications or devices       4701\n",
       "Data or business analyst                          3970\n",
       "Data scientist or machine learning specialist     3939\n",
       "Developer, QA or test                             3893\n",
       "Engineer, data                                    3700\n",
       "Academic researcher                               3502\n",
       "Educator                                          2895\n",
       "Developer, game or graphics                       2751\n",
       "Engineering manager                               2699\n",
       "Product manager                                   2471\n",
       "Scientist                                         2060\n",
       "Engineer, site reliability                        1921\n",
       "Senior executive/VP                               1292\n",
       "Marketing or sales professional                    625\n",
       "dtype: int64"
      ]
     },
     "execution_count": 47,
     "metadata": {},
     "output_type": "execute_result"
    }
   ],
   "source": [
    "devtype_totals = devtype_df.sum().sort_values(ascending=False)\n",
    "devtype_totals"
   ]
  },
  {
   "cell_type": "code",
   "execution_count": 48,
   "id": "d9c7427a-a256-458c-a4bc-d7aa444dfeb2",
   "metadata": {},
   "outputs": [
    {
     "data": {
      "image/png": "[encoded data removed]",
      "text/plain": [
       "<Figure size 864x432 with 1 Axes>"
      ]
     },
     "metadata": {
      "needs_background": "light"
     },
     "output_type": "display_data"
    }
   ],
   "source": [
    "plt.figure(figsize=(12,6))\n",
    "plt.bar(devtype_df.columns, devtype_totals.values)\n",
    "plt.title(schema_df.DevType)\n",
    "plt.xlabel(\"Role\")\n",
    "plt.ylabel(\"No of Persons\")\n",
    "plt.xticks(rotation=75)\n",
    "plt.show()"
   ]
  },
  {
   "cell_type": "markdown",
   "id": "1ef19407-4d96-42cd-95ac-6de5071ef6f2",
   "metadata": {},
   "source": [
    "## Asking and Answering Questions"
   ]
  },
  {
   "cell_type": "markdown",
   "id": "f6f1af9f-338a-48ff-b89f-91bb0b6d2486",
   "metadata": {},
   "source": [
    "#### Q: What are the most popular programming languages in 2020? "
   ]
  },
  {
   "cell_type": "code",
   "execution_count": 49,
   "id": "0806cecb-7d14-425b-94a3-a24aa1ae7d7a",
   "metadata": {},
   "outputs": [
    {
     "data": {
      "text/plain": [
       "'Which programming, scripting, and markup languages have you done extensive development work in over the past year, and which do you want to work in over the next year? (If you both worked with the language and want to continue to do so, please check both boxes in that row.)'"
      ]
     },
     "execution_count": 49,
     "metadata": {},
     "output_type": "execute_result"
    }
   ],
   "source": [
    "schema_df.LanguageWorkedWith"
   ]
  },
  {
   "cell_type": "code",
   "execution_count": 50,
   "id": "0b256999-144f-4ce4-9095-5237c84428b8",
   "metadata": {},
   "outputs": [
    {
     "data": {
      "text/plain": [
       "0                                   C#;HTML/CSS;JavaScript\n",
       "1                                         JavaScript;Swift\n",
       "2                                 Objective-C;Python;Swift\n",
       "3                                                      NaN\n",
       "4                                        HTML/CSS;Ruby;SQL\n",
       "                               ...                        \n",
       "64456                                                  NaN\n",
       "64457    Assembly;Bash/Shell/PowerShell;C;C#;C++;Dart;G...\n",
       "64458                                                  NaN\n",
       "64459                                             HTML/CSS\n",
       "64460                      C#;HTML/CSS;Java;JavaScript;SQL\n",
       "Name: LanguageWorkedWith, Length: 64306, dtype: object"
      ]
     },
     "execution_count": 50,
     "metadata": {},
     "output_type": "execute_result"
    }
   ],
   "source": [
    "survey_df.LanguageWorkedWith"
   ]
  },
  {
   "cell_type": "code",
   "execution_count": 51,
   "id": "be38551f-498c-4d1d-87b1-43be51a72b28",
   "metadata": {},
   "outputs": [],
   "source": [
    "language_df = split_values(survey_df.LanguageWorkedWith)"
   ]
  },
  {
   "cell_type": "code",
   "execution_count": 52,
   "id": "41650448-8eb1-499e-b598-c68b4660fc5d",
   "metadata": {},
   "outputs": [
    {
     "data": {
      "text/html": [
       "<div>\n",
       "<style scoped>\n",
       "    .dataframe tbody tr th:only-of-type {\n",
       "        vertical-align: middle;\n",
       "    }\n",
       "\n",
       "    .dataframe tbody tr th {\n",
       "        vertical-align: top;\n",
       "    }\n",
       "\n",
       "    .dataframe thead th {\n",
       "        text-align: right;\n",
       "    }\n",
       "</style>\n",
       "<table border=\"1\" class=\"dataframe\">\n",
       "  <thead>\n",
       "    <tr style=\"text-align: right;\">\n",
       "      <th></th>\n",
       "      <th>C#</th>\n",
       "      <th>HTML/CSS</th>\n",
       "      <th>JavaScript</th>\n",
       "      <th>Swift</th>\n",
       "      <th>Objective-C</th>\n",
       "      <th>Python</th>\n",
       "      <th>Ruby</th>\n",
       "      <th>SQL</th>\n",
       "      <th>Java</th>\n",
       "      <th>PHP</th>\n",
       "      <th>...</th>\n",
       "      <th>VBA</th>\n",
       "      <th>Perl</th>\n",
       "      <th>Scala</th>\n",
       "      <th>C++</th>\n",
       "      <th>Go</th>\n",
       "      <th>Haskell</th>\n",
       "      <th>Rust</th>\n",
       "      <th>Dart</th>\n",
       "      <th>Julia</th>\n",
       "      <th>Assembly</th>\n",
       "    </tr>\n",
       "  </thead>\n",
       "  <tbody>\n",
       "    <tr>\n",
       "      <th>0</th>\n",
       "      <td>True</td>\n",
       "      <td>True</td>\n",
       "      <td>True</td>\n",
       "      <td>False</td>\n",
       "      <td>False</td>\n",
       "      <td>False</td>\n",
       "      <td>False</td>\n",
       "      <td>False</td>\n",
       "      <td>False</td>\n",
       "      <td>False</td>\n",
       "      <td>...</td>\n",
       "      <td>False</td>\n",
       "      <td>False</td>\n",
       "      <td>False</td>\n",
       "      <td>False</td>\n",
       "      <td>False</td>\n",
       "      <td>False</td>\n",
       "      <td>False</td>\n",
       "      <td>False</td>\n",
       "      <td>False</td>\n",
       "      <td>False</td>\n",
       "    </tr>\n",
       "    <tr>\n",
       "      <th>1</th>\n",
       "      <td>False</td>\n",
       "      <td>False</td>\n",
       "      <td>True</td>\n",
       "      <td>True</td>\n",
       "      <td>False</td>\n",
       "      <td>False</td>\n",
       "      <td>False</td>\n",
       "      <td>False</td>\n",
       "      <td>False</td>\n",
       "      <td>False</td>\n",
       "      <td>...</td>\n",
       "      <td>False</td>\n",
       "      <td>False</td>\n",
       "      <td>False</td>\n",
       "      <td>False</td>\n",
       "      <td>False</td>\n",
       "      <td>False</td>\n",
       "      <td>False</td>\n",
       "      <td>False</td>\n",
       "      <td>False</td>\n",
       "      <td>False</td>\n",
       "    </tr>\n",
       "    <tr>\n",
       "      <th>2</th>\n",
       "      <td>False</td>\n",
       "      <td>False</td>\n",
       "      <td>False</td>\n",
       "      <td>True</td>\n",
       "      <td>True</td>\n",
       "      <td>True</td>\n",
       "      <td>False</td>\n",
       "      <td>False</td>\n",
       "      <td>False</td>\n",
       "      <td>False</td>\n",
       "      <td>...</td>\n",
       "      <td>False</td>\n",
       "      <td>False</td>\n",
       "      <td>False</td>\n",
       "      <td>False</td>\n",
       "      <td>False</td>\n",
       "      <td>False</td>\n",
       "      <td>False</td>\n",
       "      <td>False</td>\n",
       "      <td>False</td>\n",
       "      <td>False</td>\n",
       "    </tr>\n",
       "    <tr>\n",
       "      <th>3</th>\n",
       "      <td>False</td>\n",
       "      <td>False</td>\n",
       "      <td>False</td>\n",
       "      <td>False</td>\n",
       "      <td>False</td>\n",
       "      <td>False</td>\n",
       "      <td>False</td>\n",
       "      <td>False</td>\n",
       "      <td>False</td>\n",
       "      <td>False</td>\n",
       "      <td>...</td>\n",
       "      <td>False</td>\n",
       "      <td>False</td>\n",
       "      <td>False</td>\n",
       "      <td>False</td>\n",
       "      <td>False</td>\n",
       "      <td>False</td>\n",
       "      <td>False</td>\n",
       "      <td>False</td>\n",
       "      <td>False</td>\n",
       "      <td>False</td>\n",
       "    </tr>\n",
       "    <tr>\n",
       "      <th>4</th>\n",
       "      <td>False</td>\n",
       "      <td>True</td>\n",
       "      <td>False</td>\n",
       "      <td>False</td>\n",
       "      <td>False</td>\n",
       "      <td>False</td>\n",
       "      <td>True</td>\n",
       "      <td>True</td>\n",
       "      <td>False</td>\n",
       "      <td>False</td>\n",
       "      <td>...</td>\n",
       "      <td>False</td>\n",
       "      <td>False</td>\n",
       "      <td>False</td>\n",
       "      <td>False</td>\n",
       "      <td>False</td>\n",
       "      <td>False</td>\n",
       "      <td>False</td>\n",
       "      <td>False</td>\n",
       "      <td>False</td>\n",
       "      <td>False</td>\n",
       "    </tr>\n",
       "    <tr>\n",
       "      <th>...</th>\n",
       "      <td>...</td>\n",
       "      <td>...</td>\n",
       "      <td>...</td>\n",
       "      <td>...</td>\n",
       "      <td>...</td>\n",
       "      <td>...</td>\n",
       "      <td>...</td>\n",
       "      <td>...</td>\n",
       "      <td>...</td>\n",
       "      <td>...</td>\n",
       "      <td>...</td>\n",
       "      <td>...</td>\n",
       "      <td>...</td>\n",
       "      <td>...</td>\n",
       "      <td>...</td>\n",
       "      <td>...</td>\n",
       "      <td>...</td>\n",
       "      <td>...</td>\n",
       "      <td>...</td>\n",
       "      <td>...</td>\n",
       "      <td>...</td>\n",
       "    </tr>\n",
       "    <tr>\n",
       "      <th>64456</th>\n",
       "      <td>False</td>\n",
       "      <td>False</td>\n",
       "      <td>False</td>\n",
       "      <td>False</td>\n",
       "      <td>False</td>\n",
       "      <td>False</td>\n",
       "      <td>False</td>\n",
       "      <td>False</td>\n",
       "      <td>False</td>\n",
       "      <td>False</td>\n",
       "      <td>...</td>\n",
       "      <td>False</td>\n",
       "      <td>False</td>\n",
       "      <td>False</td>\n",
       "      <td>False</td>\n",
       "      <td>False</td>\n",
       "      <td>False</td>\n",
       "      <td>False</td>\n",
       "      <td>False</td>\n",
       "      <td>False</td>\n",
       "      <td>False</td>\n",
       "    </tr>\n",
       "    <tr>\n",
       "      <th>64457</th>\n",
       "      <td>True</td>\n",
       "      <td>True</td>\n",
       "      <td>True</td>\n",
       "      <td>True</td>\n",
       "      <td>True</td>\n",
       "      <td>True</td>\n",
       "      <td>True</td>\n",
       "      <td>True</td>\n",
       "      <td>True</td>\n",
       "      <td>True</td>\n",
       "      <td>...</td>\n",
       "      <td>True</td>\n",
       "      <td>True</td>\n",
       "      <td>True</td>\n",
       "      <td>True</td>\n",
       "      <td>True</td>\n",
       "      <td>True</td>\n",
       "      <td>True</td>\n",
       "      <td>True</td>\n",
       "      <td>True</td>\n",
       "      <td>True</td>\n",
       "    </tr>\n",
       "    <tr>\n",
       "      <th>64458</th>\n",
       "      <td>False</td>\n",
       "      <td>False</td>\n",
       "      <td>False</td>\n",
       "      <td>False</td>\n",
       "      <td>False</td>\n",
       "      <td>False</td>\n",
       "      <td>False</td>\n",
       "      <td>False</td>\n",
       "      <td>False</td>\n",
       "      <td>False</td>\n",
       "      <td>...</td>\n",
       "      <td>False</td>\n",
       "      <td>False</td>\n",
       "      <td>False</td>\n",
       "      <td>False</td>\n",
       "      <td>False</td>\n",
       "      <td>False</td>\n",
       "      <td>False</td>\n",
       "      <td>False</td>\n",
       "      <td>False</td>\n",
       "      <td>False</td>\n",
       "    </tr>\n",
       "    <tr>\n",
       "      <th>64459</th>\n",
       "      <td>False</td>\n",
       "      <td>True</td>\n",
       "      <td>False</td>\n",
       "      <td>False</td>\n",
       "      <td>False</td>\n",
       "      <td>False</td>\n",
       "      <td>False</td>\n",
       "      <td>False</td>\n",
       "      <td>False</td>\n",
       "      <td>False</td>\n",
       "      <td>...</td>\n",
       "      <td>False</td>\n",
       "      <td>False</td>\n",
       "      <td>False</td>\n",
       "      <td>False</td>\n",
       "      <td>False</td>\n",
       "      <td>False</td>\n",
       "      <td>False</td>\n",
       "      <td>False</td>\n",
       "      <td>False</td>\n",
       "      <td>False</td>\n",
       "    </tr>\n",
       "    <tr>\n",
       "      <th>64460</th>\n",
       "      <td>True</td>\n",
       "      <td>True</td>\n",
       "      <td>True</td>\n",
       "      <td>False</td>\n",
       "      <td>False</td>\n",
       "      <td>False</td>\n",
       "      <td>False</td>\n",
       "      <td>True</td>\n",
       "      <td>True</td>\n",
       "      <td>False</td>\n",
       "      <td>...</td>\n",
       "      <td>False</td>\n",
       "      <td>False</td>\n",
       "      <td>False</td>\n",
       "      <td>False</td>\n",
       "      <td>False</td>\n",
       "      <td>False</td>\n",
       "      <td>False</td>\n",
       "      <td>False</td>\n",
       "      <td>False</td>\n",
       "      <td>False</td>\n",
       "    </tr>\n",
       "  </tbody>\n",
       "</table>\n",
       "<p>64306 rows × 25 columns</p>\n",
       "</div>"
      ],
      "text/plain": [
       "          C#  HTML/CSS  JavaScript  Swift  Objective-C  Python   Ruby    SQL  \\\n",
       "0       True      True        True  False        False   False  False  False   \n",
       "1      False     False        True   True        False   False  False  False   \n",
       "2      False     False       False   True         True    True  False  False   \n",
       "3      False     False       False  False        False   False  False  False   \n",
       "4      False      True       False  False        False   False   True   True   \n",
       "...      ...       ...         ...    ...          ...     ...    ...    ...   \n",
       "64456  False     False       False  False        False   False  False  False   \n",
       "64457   True      True        True   True         True    True   True   True   \n",
       "64458  False     False       False  False        False   False  False  False   \n",
       "64459  False      True       False  False        False   False  False  False   \n",
       "64460   True      True        True  False        False   False  False   True   \n",
       "\n",
       "        Java    PHP  ...    VBA   Perl  Scala    C++     Go  Haskell   Rust  \\\n",
       "0      False  False  ...  False  False  False  False  False    False  False   \n",
       "1      False  False  ...  False  False  False  False  False    False  False   \n",
       "2      False  False  ...  False  False  False  False  False    False  False   \n",
       "3      False  False  ...  False  False  False  False  False    False  False   \n",
       "4      False  False  ...  False  False  False  False  False    False  False   \n",
       "...      ...    ...  ...    ...    ...    ...    ...    ...      ...    ...   \n",
       "64456  False  False  ...  False  False  False  False  False    False  False   \n",
       "64457   True   True  ...   True   True   True   True   True     True   True   \n",
       "64458  False  False  ...  False  False  False  False  False    False  False   \n",
       "64459  False  False  ...  False  False  False  False  False    False  False   \n",
       "64460   True  False  ...  False  False  False  False  False    False  False   \n",
       "\n",
       "        Dart  Julia  Assembly  \n",
       "0      False  False     False  \n",
       "1      False  False     False  \n",
       "2      False  False     False  \n",
       "3      False  False     False  \n",
       "4      False  False     False  \n",
       "...      ...    ...       ...  \n",
       "64456  False  False     False  \n",
       "64457   True   True      True  \n",
       "64458  False  False     False  \n",
       "64459  False  False     False  \n",
       "64460  False  False     False  \n",
       "\n",
       "[64306 rows x 25 columns]"
      ]
     },
     "execution_count": 52,
     "metadata": {},
     "output_type": "execute_result"
    }
   ],
   "source": [
    "language_df"
   ]
  },
  {
   "cell_type": "code",
   "execution_count": 53,
   "id": "edb471dd-db75-4852-93d1-cb1dc18a5d5d",
   "metadata": {},
   "outputs": [
    {
     "data": {
      "text/plain": [
       "JavaScript               59.893323\n",
       "HTML/CSS                 55.801947\n",
       "SQL                      48.444935\n",
       "Python                   39.001026\n",
       "Java                     35.618760\n",
       "Bash/Shell/PowerShell    29.239884\n",
       "C#                       27.803004\n",
       "PHP                      23.130035\n",
       "TypeScript               22.461357\n",
       "C++                      21.114670\n",
       "C                        19.236152\n",
       "Go                        7.758219\n",
       "Kotlin                    6.887382\n",
       "Ruby                      6.229590\n",
       "Assembly                  5.447392\n",
       "VBA                       5.394520\n",
       "Swift                     5.226573\n",
       "R                         5.064846\n",
       "Rust                      4.498803\n",
       "Objective-C               3.603085\n",
       "Dart                      3.517557\n",
       "Scala                     3.150561\n",
       "Perl                      2.757130\n",
       "Haskell                   1.861413\n",
       "Julia                     0.782198\n",
       "dtype: float64"
      ]
     },
     "execution_count": 53,
     "metadata": {},
     "output_type": "execute_result"
    }
   ],
   "source": [
    "languages_percentages = language_df.mean().sort_values(ascending=False) * 100\n",
    "languages_percentages"
   ]
  },
  {
   "cell_type": "code",
   "execution_count": 54,
   "id": "2426a6fb-e688-45ca-beaa-5f73f8d48503",
   "metadata": {},
   "outputs": [
    {
     "data": {
      "image/png": "[encoded data removed]",
      "text/plain": [
       "<Figure size 864x864 with 1 Axes>"
      ]
     },
     "metadata": {
      "needs_background": "light"
     },
     "output_type": "display_data"
    }
   ],
   "source": [
    "plt.figure(figsize=(12, 12))\n",
    "sns.barplot(x=languages_percentages, y=languages_percentages.index)\n",
    "plt.title(\"Languages used in the past year\");\n",
    "plt.xlabel('count');"
   ]
  },
  {
   "cell_type": "markdown",
   "id": "273c8860-af84-4e53-b008-83331d5793af",
   "metadata": {},
   "source": [
    " Perhaps unsurprisingly, Javascript & HTML/CSS comes out at the top as web development is one of today's most sought skills."
   ]
  },
  {
   "cell_type": "markdown",
   "id": "046a75c2-e8cf-49e4-bad6-c6738502fc13",
   "metadata": {},
   "source": [
    "#### Q: Which languages are the most people interested to learn over the next year?"
   ]
  },
  {
   "cell_type": "code",
   "execution_count": 56,
   "id": "e1ca255c-2922-4faa-8203-14bb2ad56341",
   "metadata": {},
   "outputs": [
    {
     "data": {
      "text/plain": [
       "Python                   41.143906\n",
       "JavaScript               40.425466\n",
       "HTML/CSS                 32.028116\n",
       "SQL                      30.799614\n",
       "TypeScript               26.451653\n",
       "C#                       21.058688\n",
       "Java                     20.464653\n",
       "Go                       19.432090\n",
       "Bash/Shell/PowerShell    18.057413\n",
       "Rust                     16.270643\n",
       "C++                      15.014151\n",
       "Kotlin                   14.760676\n",
       "PHP                      10.947657\n",
       "C                         9.359935\n",
       "Swift                     8.692812\n",
       "Dart                      7.308805\n",
       "R                         6.571704\n",
       "Ruby                      6.425528\n",
       "Scala                     5.326097\n",
       "Haskell                   4.593662\n",
       "Assembly                  3.766367\n",
       "Julia                     2.540976\n",
       "Objective-C               2.338818\n",
       "Perl                      1.761888\n",
       "VBA                       1.611047\n",
       "dtype: float64"
      ]
     },
     "execution_count": 56,
     "metadata": {},
     "output_type": "execute_result"
    }
   ],
   "source": [
    "languages_interested_df = split_values(survey_df.LanguageDesireNextYear)\n",
    "languages_interested_percentages = languages_interested_df.mean().sort_values(ascending=False) * 100\n",
    "languages_interested_percentages"
   ]
  },
  {
   "cell_type": "code",
   "execution_count": 57,
   "id": "c77079da-aaa8-452c-9a15-6ba46dbf9cfd",
   "metadata": {},
   "outputs": [
    {
     "data": {
      "image/png": "[encoded data removed]",
      "text/plain": [
       "<Figure size 864x864 with 1 Axes>"
      ]
     },
     "metadata": {
      "needs_background": "light"
     },
     "output_type": "display_data"
    }
   ],
   "source": [
    "plt.figure(figsize=(12, 12))\n",
    "sns.barplot(x=languages_interested_percentages, y=languages_interested_percentages.index)\n",
    "plt.title(\"Languages people are intersted in learning over the next year\");\n",
    "plt.xlabel('count');"
   ]
  },
  {
   "cell_type": "markdown",
   "id": "3e9281e6-5f06-42b0-8576-687aacc0d61a",
   "metadata": {},
   "source": [
    " Once again, it's not surprising that Python is the language most people are interested in learning - since it is an easy-to-learn general-purpose programming language well suited for a variety of domains"
   ]
  },
  {
   "cell_type": "markdown",
   "id": "f6146bb8-7b0a-4199-b110-53baaee6a04b",
   "metadata": {},
   "source": [
    "### Q: Which are the most loved languages, i.e., a high percentage of people who have used the language want to continue learning & using it over the next year?"
   ]
  },
  {
   "cell_type": "code",
   "execution_count": 60,
   "id": "72f51b63-371d-47ba-9fa0-853b60e2105d",
   "metadata": {},
   "outputs": [],
   "source": [
    "languages_loved_df = language_df & languages_interested_df"
   ]
  },
  {
   "cell_type": "code",
   "execution_count": 62,
   "id": "683585c0-01d9-4ae0-a40c-64a307f61c1f",
   "metadata": {},
   "outputs": [],
   "source": [
    "languages_loved_percentages = (languages_loved_df.sum() * 100/ language_df.sum()).sort_values(ascending=False)"
   ]
  },
  {
   "cell_type": "code",
   "execution_count": 63,
   "id": "e137ffb5-184f-4272-aea8-6bcae12eb0a7",
   "metadata": {},
   "outputs": [
    {
     "data": {
      "image/png": "[encoded data removed]",
      "text/plain": [
       "<Figure size 864x864 with 1 Axes>"
      ]
     },
     "metadata": {
      "needs_background": "light"
     },
     "output_type": "display_data"
    }
   ],
   "source": [
    "plt.figure(figsize=(12, 12))\n",
    "sns.barplot(x=languages_loved_percentages, y=languages_loved_percentages.index)\n",
    "plt.title(\"Most loved languages\");\n",
    "plt.xlabel('count');"
   ]
  },
  {
   "cell_type": "markdown",
   "id": "72938a19-cdf7-4e25-abee-73cb3f4cf023",
   "metadata": {},
   "source": [
    " Rust has been StackOverflow's most-loved language for four years in a row. The second most-loved language is TypeScript, a popular alternative to JavaScript for web development."
   ]
  },
  {
   "cell_type": "markdown",
   "id": "e9d49716-b786-4fd1-99fb-25ef534f26cc",
   "metadata": {},
   "source": [
    "### Q: In which countries do developers work the highest number of hours per week? Consider countries with more than 250 responses only."
   ]
  },
  {
   "cell_type": "code",
   "execution_count": 64,
   "id": "d58d2b51-e80f-4fa9-9605-50d579d7b4db",
   "metadata": {},
   "outputs": [],
   "source": [
    "countries_df = survey_df.groupby('Country')[['WorkWeekHrs']].mean().sort_values('WorkWeekHrs', ascending=False)"
   ]
  },
  {
   "cell_type": "code",
   "execution_count": 65,
   "id": "ceea5fc1-20bf-4f43-b9cf-bba16cf32540",
   "metadata": {},
   "outputs": [],
   "source": [
    "high_response_countries_df = countries_df.loc[survey_df.Country.value_counts() > 250].head(15)"
   ]
  },
  {
   "cell_type": "code",
   "execution_count": 66,
   "id": "f238273f-d7db-4aa6-b77d-6b6b50e0c418",
   "metadata": {},
   "outputs": [
    {
     "data": {
      "text/html": [
       "<div>\n",
       "<style scoped>\n",
       "    .dataframe tbody tr th:only-of-type {\n",
       "        vertical-align: middle;\n",
       "    }\n",
       "\n",
       "    .dataframe tbody tr th {\n",
       "        vertical-align: top;\n",
       "    }\n",
       "\n",
       "    .dataframe thead th {\n",
       "        text-align: right;\n",
       "    }\n",
       "</style>\n",
       "<table border=\"1\" class=\"dataframe\">\n",
       "  <thead>\n",
       "    <tr style=\"text-align: right;\">\n",
       "      <th></th>\n",
       "      <th>WorkWeekHrs</th>\n",
       "    </tr>\n",
       "    <tr>\n",
       "      <th>Country</th>\n",
       "      <th></th>\n",
       "    </tr>\n",
       "  </thead>\n",
       "  <tbody>\n",
       "    <tr>\n",
       "      <th>Iran</th>\n",
       "      <td>44.337748</td>\n",
       "    </tr>\n",
       "    <tr>\n",
       "      <th>Israel</th>\n",
       "      <td>43.915094</td>\n",
       "    </tr>\n",
       "    <tr>\n",
       "      <th>China</th>\n",
       "      <td>42.150000</td>\n",
       "    </tr>\n",
       "    <tr>\n",
       "      <th>United States</th>\n",
       "      <td>41.802982</td>\n",
       "    </tr>\n",
       "    <tr>\n",
       "      <th>Greece</th>\n",
       "      <td>41.402724</td>\n",
       "    </tr>\n",
       "    <tr>\n",
       "      <th>Viet Nam</th>\n",
       "      <td>41.391667</td>\n",
       "    </tr>\n",
       "    <tr>\n",
       "      <th>South Africa</th>\n",
       "      <td>41.023460</td>\n",
       "    </tr>\n",
       "    <tr>\n",
       "      <th>Turkey</th>\n",
       "      <td>40.982143</td>\n",
       "    </tr>\n",
       "    <tr>\n",
       "      <th>Sri Lanka</th>\n",
       "      <td>40.612245</td>\n",
       "    </tr>\n",
       "    <tr>\n",
       "      <th>New Zealand</th>\n",
       "      <td>40.457551</td>\n",
       "    </tr>\n",
       "    <tr>\n",
       "      <th>Belgium</th>\n",
       "      <td>40.444444</td>\n",
       "    </tr>\n",
       "    <tr>\n",
       "      <th>Canada</th>\n",
       "      <td>40.208837</td>\n",
       "    </tr>\n",
       "    <tr>\n",
       "      <th>Hungary</th>\n",
       "      <td>40.194340</td>\n",
       "    </tr>\n",
       "    <tr>\n",
       "      <th>Bangladesh</th>\n",
       "      <td>40.097458</td>\n",
       "    </tr>\n",
       "    <tr>\n",
       "      <th>India</th>\n",
       "      <td>40.090603</td>\n",
       "    </tr>\n",
       "  </tbody>\n",
       "</table>\n",
       "</div>"
      ],
      "text/plain": [
       "               WorkWeekHrs\n",
       "Country                   \n",
       "Iran             44.337748\n",
       "Israel           43.915094\n",
       "China            42.150000\n",
       "United States    41.802982\n",
       "Greece           41.402724\n",
       "Viet Nam         41.391667\n",
       "South Africa     41.023460\n",
       "Turkey           40.982143\n",
       "Sri Lanka        40.612245\n",
       "New Zealand      40.457551\n",
       "Belgium          40.444444\n",
       "Canada           40.208837\n",
       "Hungary          40.194340\n",
       "Bangladesh       40.097458\n",
       "India            40.090603"
      ]
     },
     "execution_count": 66,
     "metadata": {},
     "output_type": "execute_result"
    }
   ],
   "source": [
    "high_response_countries_df"
   ]
  },
  {
   "cell_type": "markdown",
   "id": "1a0dc4ff-c2e7-4bea-81f0-720729c5bfe9",
   "metadata": {},
   "source": [
    " The Asian countries like Iran, China, and Israel have the highest working hours, followed by the United States. However, there isn't too much variation overall, and the average working hours seem to be around 40 hours per week."
   ]
  },
  {
   "cell_type": "markdown",
   "id": "9306e309-e12c-4db5-9aa8-04ff7790d159",
   "metadata": {},
   "source": [
    "## Inferences and Conclusions\n",
    "\n",
    "I've drawn many inferences from the survey. Here's a summary of a few of them:\n",
    "\n",
    "- Based on the survey respondents' demographics, we can infer that the survey is somewhat representative of the overall programming community. However, it has fewer responses from programmers in non-English-speaking countries and women & non-binary genders.\n",
    "\n",
    "- The programming community is not as diverse as it can be. Although things are improving, we should make more efforts to support & encourage underrepresented communities, whether in terms of age, country, race, gender, or otherwise.\n",
    "\n",
    "\n",
    "- Although most programmers hold a college degree, a reasonably large percentage did not have computer science as their college major. Hence, a computer science degree isn't compulsory for learning to code or building a career in programming.\n",
    "\n",
    "- A significant percentage of programmers either work part-time or as freelancers, which can be a great way to break into the field, especially when you're just getting started.\n",
    "\n",
    "- Javascript & HTML/CSS are the most used programming languages in 2020, closely followed by SQL & Python.\n",
    "\n",
    "- Python is the language most people are interested in learning - since it is an easy-to-learn general-purpose programming language well suited for various domains.\n",
    "\n",
    "- Rust and TypeScript are the most \"loved\" languages in 2020, both of which have small but fast-growing communities. Python is a close third, despite already being a widely used language.\n",
    "\n",
    "- Programmers worldwide seem to be working for around 40 hours a week on average, with slight variations by country.\n",
    "\n",
    "- You can learn and start programming professionally at any age. You're likely to have a long and fulfilling career if you also enjoy programming as a hobby."
   ]
  },
  {
   "cell_type": "code",
   "execution_count": null,
   "id": "ecd06d0e-7a1e-49c2-a5ed-6f9f08236c4f",
   "metadata": {},
   "outputs": [],
   "source": []
  }
 ],
 "metadata": {
  "kernelspec": {
   "display_name": "Python 3 (ipykernel)",
   "language": "python",
   "name": "python3"
  },
  "language_info": {
   "codemirror_mode": {
    "name": "ipython",
    "version": 3
   },
   "file_extension": ".py",
   "mimetype": "text/x-python",
   "name": "python",
   "nbconvert_exporter": "python",
   "pygments_lexer": "ipython3",
   "version": "3.9.7"
  }
 },
 "nbformat": 4,
 "nbformat_minor": 5
}
